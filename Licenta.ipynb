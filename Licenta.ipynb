{
 "cells": [
  {
   "cell_type": "code",
   "execution_count": 1,
   "id": "41290086",
   "metadata": {},
   "outputs": [],
   "source": [
    "from itertools import count\n",
    "import plotly.express as px\n",
    "import pandas as pd\n",
    "from sklearn.model_selection import train_test_split\n",
    "from sklearn.linear_model import LogisticRegression\n",
    "from sklearn.svm import LinearSVC\n",
    "from sklearn.tree import DecisionTreeClassifier\n",
    "from sklearn.ensemble import RandomForestClassifier\n",
    "from sklearn.neural_network import MLPClassifier\n",
    "from sklearn.neighbors import KNeighborsClassifier\n",
    "from pandas import read_csv\n",
    "from sklearn.preprocessing import LabelEncoder\n",
    "from sklearn.preprocessing import OneHotEncoder\n",
    "from sklearn.metrics import confusion_matrix, mean_squared_error\n",
    "from sklearn import model_selection\n",
    "from sklearn.metrics import classification_report\n",
    "from pandas import read_csv\n",
    "from sklearn.preprocessing import LabelEncoder\n",
    "from sklearn.preprocessing import OneHotEncoder\n",
    "import pandas as pd\n",
    "from sklearn.tree import DecisionTreeClassifier\n",
    "from sklearn.metrics import precision_score\n",
    "from sklearn.metrics import recall_score\n",
    "from sklearn.metrics import f1_score\n",
    "from sklearn.metrics import accuracy_score\n",
    "from sklearn.metrics import roc_curve, auc, roc_auc_score\n",
    "import matplotlib.pyplot as plt\n",
    "from sklearn.metrics import classification_report\n",
    "from numpy import argmax\n",
    "from sklearn.model_selection import train_test_split\n",
    "from sklearn.linear_model import LogisticRegression\n",
    "from sklearn.svm import LinearSVC\n",
    "from sklearn.tree import DecisionTreeClassifier\n",
    "from sklearn.ensemble import RandomForestClassifier\n",
    "from sklearn.naive_bayes import GaussianNB\n",
    "from sklearn.neural_network import MLPClassifier\n",
    "from sklearn.neighbors import KNeighborsClassifier\n",
    "import matplotlib.pyplot as plt\n",
    "from matplotlib.colors import ListedColormap\n",
    "from sklearn.model_selection import train_test_split\n",
    "from sklearn.preprocessing import StandardScaler\n",
    "from sklearn.datasets import make_moons, make_circles, make_classification\n",
    "from sklearn.neural_network import MLPClassifier\n",
    "from sklearn.neighbors import KNeighborsClassifier\n",
    "from sklearn.svm import SVC\n",
    "from sklearn.gaussian_process import GaussianProcessClassifier\n",
    "from sklearn.gaussian_process.kernels import RBF\n",
    "from sklearn.tree import DecisionTreeClassifier\n",
    "from sklearn.ensemble import RandomForestClassifier, AdaBoostClassifier\n",
    "from sklearn.naive_bayes import GaussianNB\n",
    "from sklearn.discriminant_analysis import QuadraticDiscriminantAnalysis"
   ]
  },
  {
   "cell_type": "code",
   "execution_count": 2,
   "id": "fdc09bb2-887f-4dca-80b4-f86f95db3a4a",
   "metadata": {},
   "outputs": [],
   "source": [
    "df = pd.read_csv('results.csv')\n",
    "an = pd.DatetimeIndex(df['date']).year"
   ]
  },
  {
   "cell_type": "code",
   "execution_count": 3,
   "id": "27772712-8260-4c0e-89a6-aadec9668e78",
   "metadata": {},
   "outputs": [
    {
     "name": "stdout",
     "output_type": "stream",
     "text": [
      "False    32426\n",
      "True     10658\n",
      "Name: neutral, dtype: int64\n"
     ]
    }
   ],
   "source": [
    "print((df['neutral'].value_counts()))\n"
   ]
  },
  {
   "cell_type": "code",
   "execution_count": 4,
   "id": "05b95893-d29a-48cc-b960-514adf803c0b",
   "metadata": {},
   "outputs": [
    {
     "name": "stdout",
     "output_type": "stream",
     "text": [
      "         date home_team away_team  home_score  away_score tournament     city  \\\n",
      "0  1872-11-30  Scotland   England         0.0         0.0   Friendly  Glasgow   \n",
      "1  1873-03-08   England  Scotland         4.0         2.0   Friendly   London   \n",
      "2  1874-03-07  Scotland   England         2.0         1.0   Friendly  Glasgow   \n",
      "3  1875-03-06   England  Scotland         2.0         2.0   Friendly   London   \n",
      "4  1876-03-04  Scotland   England         3.0         0.0   Friendly  Glasgow   \n",
      "\n",
      "    country neutral  \n",
      "0  Scotland   False  \n",
      "1   England   False  \n",
      "2  Scotland   False  \n",
      "3   England   False  \n",
      "4  Scotland   False  \n"
     ]
    }
   ],
   "source": [
    "print(df.head())\n",
    "#descrierea datelor si a fisierului\n"
   ]
  },
  {
   "cell_type": "code",
   "execution_count": 5,
   "id": "fc64b0a2-8cc8-412d-8db4-dd4afeda98b4",
   "metadata": {},
   "outputs": [
    {
     "name": "stdout",
     "output_type": "stream",
     "text": [
      "              count      mean       std  min  25%  50%  75%   max\n",
      "home_score  43081.0  1.743228  1.753982  0.0  1.0  1.0  2.0  31.0\n",
      "away_score  43081.0  1.183608  1.400620  0.0  0.0  1.0  2.0  21.0\n"
     ]
    }
   ],
   "source": [
    "print(df.describe().transpose())"
   ]
  },
  {
   "cell_type": "code",
   "execution_count": 6,
   "id": "4475f207-ae40-41f7-8b8f-eb39baf498b8",
   "metadata": {},
   "outputs": [
    {
     "name": "stdout",
     "output_type": "stream",
     "text": [
      "              date home_team away_team    home_score    away_score tournament  \\\n",
      "count        43086     43084     43084  43081.000000  43081.000000      43086   \n",
      "unique       15388       307       304           NaN           NaN        126   \n",
      "top     2012-02-29    Brazil   Uruguay           NaN           NaN   Friendly   \n",
      "freq            66       585       551           NaN           NaN      17244   \n",
      "mean           NaN       NaN       NaN      1.743228      1.183608        NaN   \n",
      "std            NaN       NaN       NaN      1.753982      1.400620        NaN   \n",
      "min            NaN       NaN       NaN      0.000000      0.000000        NaN   \n",
      "25%            NaN       NaN       NaN      1.000000      0.000000        NaN   \n",
      "50%            NaN       NaN       NaN      1.000000      1.000000        NaN   \n",
      "75%            NaN       NaN       NaN      2.000000      2.000000        NaN   \n",
      "max            NaN       NaN       NaN     31.000000     21.000000        NaN   \n",
      "\n",
      "                city        country neutral  \n",
      "count          43086          43086   43084  \n",
      "unique          2058            266       2  \n",
      "top     Kuala Lumpur  United States   False  \n",
      "freq             667           1235   32426  \n",
      "mean             NaN            NaN     NaN  \n",
      "std              NaN            NaN     NaN  \n",
      "min              NaN            NaN     NaN  \n",
      "25%              NaN            NaN     NaN  \n",
      "50%              NaN            NaN     NaN  \n",
      "75%              NaN            NaN     NaN  \n",
      "max              NaN            NaN     NaN  \n"
     ]
    }
   ],
   "source": [
    "print(df.describe(include='all'))"
   ]
  },
  {
   "cell_type": "code",
   "execution_count": 7,
   "id": "4a85ffb3-7798-44fa-9e22-95af044d03be",
   "metadata": {},
   "outputs": [
    {
     "name": "stdout",
     "output_type": "stream",
     "text": [
      "      home_score  away_score\n",
      "0.0     0.000000    0.000000\n",
      "0.5     0.594899    0.405101\n",
      "1.0     1.147215    0.852785\n",
      "1.5     1.752087    1.247913\n",
      "2.0     2.340981    1.659019\n",
      "2.5     2.999727    2.000273\n",
      "3.0     3.564782    2.435218\n",
      "3.5     4.380256    2.619744\n",
      "4.0     5.173451    2.826549\n",
      "4.5     5.820261    3.179739\n",
      "5.0     6.261146    3.738854\n",
      "5.5     8.011905    2.988095\n",
      "6.0     8.403509    3.596491\n",
      "6.5     8.870968    4.129032\n",
      "7.0    11.133333    2.866667\n",
      "7.5    10.153846    4.846154\n",
      "8.0    12.818182    3.181818\n",
      "8.5     8.000000    9.000000\n",
      "9.0     2.500000   15.500000\n",
      "9.5    11.400000    7.600000\n",
      "10.0    5.000000   15.000000\n",
      "10.5   10.500000   10.500000\n",
      "11.0   21.500000    0.500000\n",
      "12.0   24.000000    0.000000\n",
      "15.0   30.000000    0.000000\n",
      "15.5   31.000000    0.000000\n"
     ]
    },
    {
     "name": "stderr",
     "output_type": "stream",
     "text": [
      "/var/folders/z9/bdmn6ynd3ml9m3h3b30mq0v40000gn/T/ipykernel_6329/1262678773.py:1: FutureWarning: Dropping of nuisance columns in DataFrame reductions (with 'numeric_only=None') is deprecated; in a future version this will raise TypeError.  Select only valid columns before calling the reduction.\n",
      "  a=df.groupby([df.mean(axis=1)]).mean()\n"
     ]
    }
   ],
   "source": [
    "a=df.groupby([df.mean(axis=1)]).mean()\n",
    "print(a)"
   ]
  },
  {
   "cell_type": "code",
   "execution_count": 8,
   "id": "1a2000bf-e3a7-4aed-92cd-3d847b35a334",
   "metadata": {},
   "outputs": [
    {
     "name": "stdout",
     "output_type": "stream",
     "text": [
      "              count      mean       std  min  25%  50%  75%   max\n",
      "home_score  43081.0  1.743228  1.753982  0.0  1.0  1.0  2.0  31.0\n",
      "away_score  43081.0  1.183608  1.400620  0.0  0.0  1.0  2.0  21.0\n"
     ]
    }
   ],
   "source": [
    "print(df.describe().transpose())\n",
    "    "
   ]
  },
  {
   "cell_type": "code",
   "execution_count": 9,
   "id": "b8e80103-21b8-4b54-b874-71be2747d676",
   "metadata": {},
   "outputs": [
    {
     "name": "stdout",
     "output_type": "stream",
     "text": [
      "         date home_team away_team  home_score  away_score tournament     city  \\\n",
      "0  1872-11-30  Scotland   England         0.0         0.0   Friendly  Glasgow   \n",
      "1  1873-03-08   England  Scotland         4.0         2.0   Friendly   London   \n",
      "2  1874-03-07  Scotland   England         2.0         1.0   Friendly  Glasgow   \n",
      "3  1875-03-06   England  Scotland         2.0         2.0   Friendly   London   \n",
      "4  1876-03-04  Scotland   England         3.0         0.0   Friendly  Glasgow   \n",
      "\n",
      "    country neutral  \n",
      "0  Scotland   False  \n",
      "1   England   False  \n",
      "2  Scotland   False  \n",
      "3   England   False  \n",
      "4  Scotland   False  \n"
     ]
    }
   ],
   "source": [
    "print(df.head())"
   ]
  },
  {
   "cell_type": "code",
   "execution_count": 10,
   "id": "aa138849",
   "metadata": {},
   "outputs": [
    {
     "name": "stdout",
     "output_type": "stream",
     "text": [
      "      home_score  away_score\n",
      "0.0     0.000000    0.000000\n",
      "0.5     0.594899    0.405101\n",
      "1.0     1.147215    0.852785\n",
      "1.5     1.752087    1.247913\n",
      "2.0     2.340981    1.659019\n",
      "2.5     2.999727    2.000273\n",
      "3.0     3.564782    2.435218\n",
      "3.5     4.380256    2.619744\n",
      "4.0     5.173451    2.826549\n",
      "4.5     5.820261    3.179739\n",
      "5.0     6.261146    3.738854\n",
      "5.5     8.011905    2.988095\n",
      "6.0     8.403509    3.596491\n",
      "6.5     8.870968    4.129032\n",
      "7.0    11.133333    2.866667\n",
      "7.5    10.153846    4.846154\n",
      "8.0    12.818182    3.181818\n",
      "8.5     8.000000    9.000000\n",
      "9.0     2.500000   15.500000\n",
      "9.5    11.400000    7.600000\n",
      "10.0    5.000000   15.000000\n",
      "10.5   10.500000   10.500000\n",
      "11.0   21.500000    0.500000\n",
      "12.0   24.000000    0.000000\n",
      "15.0   30.000000    0.000000\n",
      "15.5   31.000000    0.000000\n"
     ]
    },
    {
     "name": "stderr",
     "output_type": "stream",
     "text": [
      "/var/folders/z9/bdmn6ynd3ml9m3h3b30mq0v40000gn/T/ipykernel_6329/1262678773.py:1: FutureWarning: Dropping of nuisance columns in DataFrame reductions (with 'numeric_only=None') is deprecated; in a future version this will raise TypeError.  Select only valid columns before calling the reduction.\n",
      "  a=df.groupby([df.mean(axis=1)]).mean()\n"
     ]
    }
   ],
   "source": [
    "a=df.groupby([df.mean(axis=1)]).mean()\n",
    "print(a)"
   ]
  },
  {
   "cell_type": "code",
   "execution_count": 11,
   "id": "4a39010f-241a-4b0a-8dcb-059f87f0c69f",
   "metadata": {},
   "outputs": [],
   "source": [
    "x = df[['home_score', 'away_score']].mean(axis=1)"
   ]
  },
  {
   "cell_type": "code",
   "execution_count": 12,
   "id": "b12badfe-3d73-45ad-952e-1f71d8ba40b7",
   "metadata": {},
   "outputs": [
    {
     "name": "stdout",
     "output_type": "stream",
     "text": [
      "      home_score  away_score\n",
      "date                        \n",
      "1872    0.000000    0.000000\n",
      "1873    4.000000    2.000000\n",
      "1874    2.000000    1.000000\n",
      "1875    2.000000    2.000000\n",
      "1876    3.500000    0.000000\n",
      "...          ...         ...\n",
      "2017    1.588727    1.107516\n",
      "2018    1.551762    1.057269\n",
      "2019    1.702422    1.170415\n",
      "2020    1.449477    1.038328\n",
      "2021    1.641929    1.102041\n",
      "\n",
      "[150 rows x 2 columns]\n"
     ]
    },
    {
     "name": "stderr",
     "output_type": "stream",
     "text": [
      "/var/folders/z9/bdmn6ynd3ml9m3h3b30mq0v40000gn/T/ipykernel_6329/2793724408.py:1: FutureWarning: Dropping of nuisance columns in DataFrame reductions (with 'numeric_only=None') is deprecated; in a future version this will raise TypeError.  Select only valid columns before calling the reduction.\n",
      "  a=df.groupby([df.mean(axis=1)]).mean()\n"
     ]
    }
   ],
   "source": [
    "a=df.groupby([df.mean(axis=1)]).mean()\n",
    "#print(a)\n",
    "x = df[['home_score', 'away_score']].mean(axis=1)\n",
    "#media \n",
    "date=df.groupby([an,]).mean()\n",
    "print(date)"
   ]
  },
  {
   "cell_type": "code",
   "execution_count": 13,
   "id": "11fdec0b-14e2-4cb6-86fa-091f5b38c849",
   "metadata": {},
   "outputs": [
    {
     "data": {
      "application/vnd.plotly.v1+json": {
       "config": {
        "plotlyServerURL": "https://plot.ly"
       },
       "data": [
        {
         "hovertemplate": "variable=home_score<br>date=%{x}<br>value=%{y}<extra></extra>",
         "legendgroup": "home_score",
         "marker": {
          "color": "#636efa",
          "symbol": "circle"
         },
         "mode": "markers",
         "name": "home_score",
         "orientation": "v",
         "showlegend": true,
         "type": "scatter",
         "x": [
          1872,
          1873,
          1874,
          1875,
          1876,
          1877,
          1878,
          1879,
          1880,
          1881,
          1882,
          1883,
          1884,
          1885,
          1886,
          1887,
          1888,
          1889,
          1890,
          1891,
          1892,
          1893,
          1894,
          1895,
          1896,
          1897,
          1898,
          1899,
          1900,
          1901,
          1902,
          1903,
          1904,
          1905,
          1906,
          1907,
          1908,
          1909,
          1910,
          1911,
          1912,
          1913,
          1914,
          1915,
          1916,
          1917,
          1918,
          1919,
          1920,
          1921,
          1922,
          1923,
          1924,
          1925,
          1926,
          1927,
          1928,
          1929,
          1930,
          1931,
          1932,
          1933,
          1934,
          1935,
          1936,
          1937,
          1938,
          1939,
          1940,
          1941,
          1942,
          1943,
          1944,
          1945,
          1946,
          1947,
          1948,
          1949,
          1950,
          1951,
          1952,
          1953,
          1954,
          1955,
          1956,
          1957,
          1958,
          1959,
          1960,
          1961,
          1962,
          1963,
          1964,
          1965,
          1966,
          1967,
          1968,
          1969,
          1970,
          1971,
          1972,
          1973,
          1974,
          1975,
          1976,
          1977,
          1978,
          1979,
          1980,
          1981,
          1982,
          1983,
          1984,
          1985,
          1986,
          1987,
          1988,
          1989,
          1990,
          1991,
          1992,
          1993,
          1994,
          1995,
          1996,
          1997,
          1998,
          1999,
          2000,
          2001,
          2002,
          2003,
          2004,
          2005,
          2006,
          2007,
          2008,
          2009,
          2010,
          2011,
          2012,
          2013,
          2014,
          2015,
          2016,
          2017,
          2018,
          2019,
          2020,
          2021
         ],
         "xaxis": "x",
         "y": [
          0,
          4,
          2,
          2,
          3.5,
          0.5,
          8,
          2.3333333333333335,
          4,
          0.6666666666666666,
          4.4,
          3,
          2,
          2.4285714285714284,
          2.4285714285714284,
          3.5,
          4,
          3.3333333333333335,
          2.3333333333333335,
          4,
          1.6666666666666667,
          4.6,
          2.5,
          3.3333333333333335,
          2.6666666666666665,
          3.6666666666666665,
          1.3333333333333333,
          4.833333333333333,
          2,
          3.8333333333333335,
          1.625,
          2,
          1.7777777777777777,
          2.25,
          1.6428571428571428,
          2.230769230769231,
          2.3461538461538463,
          2.5,
          2.3461538461538463,
          2.3636363636363638,
          2.41025641025641,
          2.2285714285714286,
          2.129032258064516,
          2.9375,
          2.310344827586207,
          2.4166666666666665,
          1.9411764705882353,
          2.484848484848485,
          1.8571428571428572,
          1.8518518518518519,
          1.7611940298507462,
          1.9111111111111112,
          2.1325301204819276,
          1.8395061728395061,
          2.6823529411764704,
          2.5375,
          2.24,
          2.8780487804878048,
          2.5454545454545454,
          2.5670103092783507,
          2.230769230769231,
          2.3225806451612905,
          2.514018691588785,
          2.215686274509804,
          2.325301204819277,
          2.389830508474576,
          2.470149253731343,
          2.376470588235294,
          2.9473684210526314,
          2.7115384615384617,
          2.6842105263157894,
          2.4,
          2.433333333333333,
          3.1875,
          2.9130434782608696,
          2.273381294964029,
          2.111111111111111,
          2.403973509933775,
          2.593984962406015,
          2.670103092783505,
          2.206896551724138,
          2.165714285714286,
          2.2550335570469797,
          2.18,
          1.994818652849741,
          2.2465753424657535,
          2.1890243902439024,
          2.297752808988764,
          2.5373831775700935,
          2.0528846153846154,
          2.1798245614035086,
          2.1025641025641026,
          1.9473684210526316,
          1.8318042813455657,
          2.129230769230769,
          1.8656716417910448,
          2.01980198019802,
          2.128205128205128,
          1.7102803738317758,
          2.0212201591511936,
          1.8028846153846154,
          1.7727272727272727,
          1.6057971014492753,
          1.8756906077348066,
          1.736180904522613,
          1.6746987951807228,
          1.6111111111111112,
          1.9676616915422886,
          1.6245059288537549,
          1.6759656652360515,
          1.5300261096605745,
          1.5,
          1.5743879472693032,
          1.5148861646234677,
          1.3359173126614987,
          1.4608938547486034,
          1.2584269662921348,
          1.4576271186440677,
          1.3949191685912241,
          1.5774058577405858,
          1.571912013536379,
          1.6534246575342466,
          1.5596491228070175,
          1.7138364779874213,
          1.7108433734939759,
          1.7549132947976878,
          1.7296137339055795,
          1.7395411605937923,
          1.790448343079922,
          1.8767123287671232,
          1.5381578947368422,
          1.8128342245989304,
          1.74671669793621,
          1.6332916145181477,
          1.6117788461538463,
          1.6092307692307692,
          1.6356164383561644,
          1.6162280701754386,
          1.5046838407494145,
          1.6269621421975993,
          1.6534260178748759,
          1.5702479338842976,
          1.4651162790697674,
          1.5643070787637088,
          1.636853448275862,
          1.5887265135699373,
          1.551762114537445,
          1.7024221453287198,
          1.4494773519163764,
          1.6419294990723563
         ],
         "yaxis": "y"
        },
        {
         "hovertemplate": "variable=away_score<br>date=%{x}<br>value=%{y}<extra></extra>",
         "legendgroup": "away_score",
         "marker": {
          "color": "#EF553B",
          "symbol": "circle"
         },
         "mode": "markers",
         "name": "away_score",
         "orientation": "v",
         "showlegend": true,
         "type": "scatter",
         "x": [
          1872,
          1873,
          1874,
          1875,
          1876,
          1877,
          1878,
          1879,
          1880,
          1881,
          1882,
          1883,
          1884,
          1885,
          1886,
          1887,
          1888,
          1889,
          1890,
          1891,
          1892,
          1893,
          1894,
          1895,
          1896,
          1897,
          1898,
          1899,
          1900,
          1901,
          1902,
          1903,
          1904,
          1905,
          1906,
          1907,
          1908,
          1909,
          1910,
          1911,
          1912,
          1913,
          1914,
          1915,
          1916,
          1917,
          1918,
          1919,
          1920,
          1921,
          1922,
          1923,
          1924,
          1925,
          1926,
          1927,
          1928,
          1929,
          1930,
          1931,
          1932,
          1933,
          1934,
          1935,
          1936,
          1937,
          1938,
          1939,
          1940,
          1941,
          1942,
          1943,
          1944,
          1945,
          1946,
          1947,
          1948,
          1949,
          1950,
          1951,
          1952,
          1953,
          1954,
          1955,
          1956,
          1957,
          1958,
          1959,
          1960,
          1961,
          1962,
          1963,
          1964,
          1965,
          1966,
          1967,
          1968,
          1969,
          1970,
          1971,
          1972,
          1973,
          1974,
          1975,
          1976,
          1977,
          1978,
          1979,
          1980,
          1981,
          1982,
          1983,
          1984,
          1985,
          1986,
          1987,
          1988,
          1989,
          1990,
          1991,
          1992,
          1993,
          1994,
          1995,
          1996,
          1997,
          1998,
          1999,
          2000,
          2001,
          2002,
          2003,
          2004,
          2005,
          2006,
          2007,
          2008,
          2009,
          2010,
          2011,
          2012,
          2013,
          2014,
          2015,
          2016,
          2017,
          2018,
          2019,
          2020,
          2021
         ],
         "xaxis": "x",
         "y": [
          0,
          2,
          1,
          2,
          0,
          2.5,
          1,
          2.6666666666666665,
          2.6666666666666665,
          4,
          3.6,
          1.4,
          3,
          3,
          2.857142857142857,
          1.1666666666666667,
          3.142857142857143,
          1.3333333333333333,
          3.1666666666666665,
          1.6666666666666667,
          2.1666666666666665,
          2.4,
          2.3333333333333335,
          1,
          2.6666666666666665,
          1.3333333333333333,
          2.5,
          1.6666666666666667,
          1.5,
          0.6666666666666666,
          2.25,
          1.4,
          1.7777777777777777,
          0.75,
          2.2142857142857144,
          1.4615384615384615,
          2.9615384615384617,
          2.3,
          1.6923076923076923,
          1.696969696969697,
          2.3846153846153846,
          1.5714285714285714,
          1.6129032258064515,
          1.5625,
          1.206896551724138,
          1.7916666666666667,
          0.8823529411764706,
          1.6363636363636365,
          1.3142857142857143,
          1.537037037037037,
          1.3880597014925373,
          1.7555555555555555,
          1.4216867469879517,
          1.4938271604938271,
          1.8588235294117648,
          1.95,
          1.72,
          1.6097560975609757,
          1.7777777777777777,
          1.6701030927835052,
          1.6923076923076923,
          1.6451612903225807,
          2.2990654205607477,
          1.588235294117647,
          2.2048192771084336,
          1.9152542372881356,
          1.8432835820895523,
          1.9411764705882353,
          1.4385964912280702,
          1.7884615384615385,
          1.5263157894736843,
          2.142857142857143,
          1.6333333333333333,
          1.703125,
          1.75,
          2,
          1.5793650793650793,
          1.8543046357615893,
          1.7142857142857142,
          1.7010309278350515,
          1.9051724137931034,
          1.7714285714285714,
          1.9060402684563758,
          1.8133333333333332,
          1.6683937823834196,
          1.5616438356164384,
          1.6280487804878048,
          1.7359550561797752,
          1.602803738317757,
          1.4134615384615385,
          1.4956140350877194,
          1.706959706959707,
          1.6210526315789473,
          1.290519877675841,
          1.4153846153846155,
          1.3582089552238805,
          1.2442244224422443,
          1.207977207977208,
          1.2679127725856698,
          1.2042440318302388,
          1.2283653846153846,
          1.0931818181818183,
          1.144927536231884,
          1.1546961325966851,
          1.2386934673366834,
          1.0554216867469879,
          1.2222222222222223,
          1.1019900497512438,
          1.0849802371541502,
          1.0686695278969958,
          1.0757180156657964,
          1.100896860986547,
          0.9792843691148776,
          0.9106830122591943,
          1.0439276485788114,
          0.9553072625698324,
          0.9569288389513109,
          0.8711864406779661,
          0.9653579676674365,
          1.0711297071129706,
          0.9898477157360406,
          1.106849315068493,
          1.063157894736842,
          1.119496855345912,
          1.1120481927710844,
          1.0647398843930636,
          1.1216022889842632,
          1.0701754385964912,
          1.0077972709551657,
          1.1634050880626223,
          1.0881578947368422,
          1.0973262032085562,
          1.1632270168855534,
          1.1476846057571966,
          1.0697115384615385,
          1.1343589743589744,
          1.063013698630137,
          1.0548245614035088,
          1.076112412177986,
          1.131117266851339,
          1.1231380337636545,
          1.0485537190082646,
          1.15,
          1.1076769690927217,
          1.0959051724137931,
          1.1075156576200418,
          1.0572687224669604,
          1.1704152249134947,
          1.038327526132404,
          1.1020408163265305
         ],
         "yaxis": "y"
        }
       ],
       "layout": {
        "legend": {
         "title": {
          "text": "variable"
         },
         "tracegroupgap": 0
        },
        "margin": {
         "t": 60
        },
        "template": {
         "data": {
          "bar": [
           {
            "error_x": {
             "color": "#2a3f5f"
            },
            "error_y": {
             "color": "#2a3f5f"
            },
            "marker": {
             "line": {
              "color": "#E5ECF6",
              "width": 0.5
             },
             "pattern": {
              "fillmode": "overlay",
              "size": 10,
              "solidity": 0.2
             }
            },
            "type": "bar"
           }
          ],
          "barpolar": [
           {
            "marker": {
             "line": {
              "color": "#E5ECF6",
              "width": 0.5
             },
             "pattern": {
              "fillmode": "overlay",
              "size": 10,
              "solidity": 0.2
             }
            },
            "type": "barpolar"
           }
          ],
          "carpet": [
           {
            "aaxis": {
             "endlinecolor": "#2a3f5f",
             "gridcolor": "white",
             "linecolor": "white",
             "minorgridcolor": "white",
             "startlinecolor": "#2a3f5f"
            },
            "baxis": {
             "endlinecolor": "#2a3f5f",
             "gridcolor": "white",
             "linecolor": "white",
             "minorgridcolor": "white",
             "startlinecolor": "#2a3f5f"
            },
            "type": "carpet"
           }
          ],
          "choropleth": [
           {
            "colorbar": {
             "outlinewidth": 0,
             "ticks": ""
            },
            "type": "choropleth"
           }
          ],
          "contour": [
           {
            "colorbar": {
             "outlinewidth": 0,
             "ticks": ""
            },
            "colorscale": [
             [
              0,
              "#0d0887"
             ],
             [
              0.1111111111111111,
              "#46039f"
             ],
             [
              0.2222222222222222,
              "#7201a8"
             ],
             [
              0.3333333333333333,
              "#9c179e"
             ],
             [
              0.4444444444444444,
              "#bd3786"
             ],
             [
              0.5555555555555556,
              "#d8576b"
             ],
             [
              0.6666666666666666,
              "#ed7953"
             ],
             [
              0.7777777777777778,
              "#fb9f3a"
             ],
             [
              0.8888888888888888,
              "#fdca26"
             ],
             [
              1,
              "#f0f921"
             ]
            ],
            "type": "contour"
           }
          ],
          "contourcarpet": [
           {
            "colorbar": {
             "outlinewidth": 0,
             "ticks": ""
            },
            "type": "contourcarpet"
           }
          ],
          "heatmap": [
           {
            "colorbar": {
             "outlinewidth": 0,
             "ticks": ""
            },
            "colorscale": [
             [
              0,
              "#0d0887"
             ],
             [
              0.1111111111111111,
              "#46039f"
             ],
             [
              0.2222222222222222,
              "#7201a8"
             ],
             [
              0.3333333333333333,
              "#9c179e"
             ],
             [
              0.4444444444444444,
              "#bd3786"
             ],
             [
              0.5555555555555556,
              "#d8576b"
             ],
             [
              0.6666666666666666,
              "#ed7953"
             ],
             [
              0.7777777777777778,
              "#fb9f3a"
             ],
             [
              0.8888888888888888,
              "#fdca26"
             ],
             [
              1,
              "#f0f921"
             ]
            ],
            "type": "heatmap"
           }
          ],
          "heatmapgl": [
           {
            "colorbar": {
             "outlinewidth": 0,
             "ticks": ""
            },
            "colorscale": [
             [
              0,
              "#0d0887"
             ],
             [
              0.1111111111111111,
              "#46039f"
             ],
             [
              0.2222222222222222,
              "#7201a8"
             ],
             [
              0.3333333333333333,
              "#9c179e"
             ],
             [
              0.4444444444444444,
              "#bd3786"
             ],
             [
              0.5555555555555556,
              "#d8576b"
             ],
             [
              0.6666666666666666,
              "#ed7953"
             ],
             [
              0.7777777777777778,
              "#fb9f3a"
             ],
             [
              0.8888888888888888,
              "#fdca26"
             ],
             [
              1,
              "#f0f921"
             ]
            ],
            "type": "heatmapgl"
           }
          ],
          "histogram": [
           {
            "marker": {
             "pattern": {
              "fillmode": "overlay",
              "size": 10,
              "solidity": 0.2
             }
            },
            "type": "histogram"
           }
          ],
          "histogram2d": [
           {
            "colorbar": {
             "outlinewidth": 0,
             "ticks": ""
            },
            "colorscale": [
             [
              0,
              "#0d0887"
             ],
             [
              0.1111111111111111,
              "#46039f"
             ],
             [
              0.2222222222222222,
              "#7201a8"
             ],
             [
              0.3333333333333333,
              "#9c179e"
             ],
             [
              0.4444444444444444,
              "#bd3786"
             ],
             [
              0.5555555555555556,
              "#d8576b"
             ],
             [
              0.6666666666666666,
              "#ed7953"
             ],
             [
              0.7777777777777778,
              "#fb9f3a"
             ],
             [
              0.8888888888888888,
              "#fdca26"
             ],
             [
              1,
              "#f0f921"
             ]
            ],
            "type": "histogram2d"
           }
          ],
          "histogram2dcontour": [
           {
            "colorbar": {
             "outlinewidth": 0,
             "ticks": ""
            },
            "colorscale": [
             [
              0,
              "#0d0887"
             ],
             [
              0.1111111111111111,
              "#46039f"
             ],
             [
              0.2222222222222222,
              "#7201a8"
             ],
             [
              0.3333333333333333,
              "#9c179e"
             ],
             [
              0.4444444444444444,
              "#bd3786"
             ],
             [
              0.5555555555555556,
              "#d8576b"
             ],
             [
              0.6666666666666666,
              "#ed7953"
             ],
             [
              0.7777777777777778,
              "#fb9f3a"
             ],
             [
              0.8888888888888888,
              "#fdca26"
             ],
             [
              1,
              "#f0f921"
             ]
            ],
            "type": "histogram2dcontour"
           }
          ],
          "mesh3d": [
           {
            "colorbar": {
             "outlinewidth": 0,
             "ticks": ""
            },
            "type": "mesh3d"
           }
          ],
          "parcoords": [
           {
            "line": {
             "colorbar": {
              "outlinewidth": 0,
              "ticks": ""
             }
            },
            "type": "parcoords"
           }
          ],
          "pie": [
           {
            "automargin": true,
            "type": "pie"
           }
          ],
          "scatter": [
           {
            "fillpattern": {
             "fillmode": "overlay",
             "size": 10,
             "solidity": 0.2
            },
            "type": "scatter"
           }
          ],
          "scatter3d": [
           {
            "line": {
             "colorbar": {
              "outlinewidth": 0,
              "ticks": ""
             }
            },
            "marker": {
             "colorbar": {
              "outlinewidth": 0,
              "ticks": ""
             }
            },
            "type": "scatter3d"
           }
          ],
          "scattercarpet": [
           {
            "marker": {
             "colorbar": {
              "outlinewidth": 0,
              "ticks": ""
             }
            },
            "type": "scattercarpet"
           }
          ],
          "scattergeo": [
           {
            "marker": {
             "colorbar": {
              "outlinewidth": 0,
              "ticks": ""
             }
            },
            "type": "scattergeo"
           }
          ],
          "scattergl": [
           {
            "marker": {
             "colorbar": {
              "outlinewidth": 0,
              "ticks": ""
             }
            },
            "type": "scattergl"
           }
          ],
          "scattermapbox": [
           {
            "marker": {
             "colorbar": {
              "outlinewidth": 0,
              "ticks": ""
             }
            },
            "type": "scattermapbox"
           }
          ],
          "scatterpolar": [
           {
            "marker": {
             "colorbar": {
              "outlinewidth": 0,
              "ticks": ""
             }
            },
            "type": "scatterpolar"
           }
          ],
          "scatterpolargl": [
           {
            "marker": {
             "colorbar": {
              "outlinewidth": 0,
              "ticks": ""
             }
            },
            "type": "scatterpolargl"
           }
          ],
          "scatterternary": [
           {
            "marker": {
             "colorbar": {
              "outlinewidth": 0,
              "ticks": ""
             }
            },
            "type": "scatterternary"
           }
          ],
          "surface": [
           {
            "colorbar": {
             "outlinewidth": 0,
             "ticks": ""
            },
            "colorscale": [
             [
              0,
              "#0d0887"
             ],
             [
              0.1111111111111111,
              "#46039f"
             ],
             [
              0.2222222222222222,
              "#7201a8"
             ],
             [
              0.3333333333333333,
              "#9c179e"
             ],
             [
              0.4444444444444444,
              "#bd3786"
             ],
             [
              0.5555555555555556,
              "#d8576b"
             ],
             [
              0.6666666666666666,
              "#ed7953"
             ],
             [
              0.7777777777777778,
              "#fb9f3a"
             ],
             [
              0.8888888888888888,
              "#fdca26"
             ],
             [
              1,
              "#f0f921"
             ]
            ],
            "type": "surface"
           }
          ],
          "table": [
           {
            "cells": {
             "fill": {
              "color": "#EBF0F8"
             },
             "line": {
              "color": "white"
             }
            },
            "header": {
             "fill": {
              "color": "#C8D4E3"
             },
             "line": {
              "color": "white"
             }
            },
            "type": "table"
           }
          ]
         },
         "layout": {
          "annotationdefaults": {
           "arrowcolor": "#2a3f5f",
           "arrowhead": 0,
           "arrowwidth": 1
          },
          "autotypenumbers": "strict",
          "coloraxis": {
           "colorbar": {
            "outlinewidth": 0,
            "ticks": ""
           }
          },
          "colorscale": {
           "diverging": [
            [
             0,
             "#8e0152"
            ],
            [
             0.1,
             "#c51b7d"
            ],
            [
             0.2,
             "#de77ae"
            ],
            [
             0.3,
             "#f1b6da"
            ],
            [
             0.4,
             "#fde0ef"
            ],
            [
             0.5,
             "#f7f7f7"
            ],
            [
             0.6,
             "#e6f5d0"
            ],
            [
             0.7,
             "#b8e186"
            ],
            [
             0.8,
             "#7fbc41"
            ],
            [
             0.9,
             "#4d9221"
            ],
            [
             1,
             "#276419"
            ]
           ],
           "sequential": [
            [
             0,
             "#0d0887"
            ],
            [
             0.1111111111111111,
             "#46039f"
            ],
            [
             0.2222222222222222,
             "#7201a8"
            ],
            [
             0.3333333333333333,
             "#9c179e"
            ],
            [
             0.4444444444444444,
             "#bd3786"
            ],
            [
             0.5555555555555556,
             "#d8576b"
            ],
            [
             0.6666666666666666,
             "#ed7953"
            ],
            [
             0.7777777777777778,
             "#fb9f3a"
            ],
            [
             0.8888888888888888,
             "#fdca26"
            ],
            [
             1,
             "#f0f921"
            ]
           ],
           "sequentialminus": [
            [
             0,
             "#0d0887"
            ],
            [
             0.1111111111111111,
             "#46039f"
            ],
            [
             0.2222222222222222,
             "#7201a8"
            ],
            [
             0.3333333333333333,
             "#9c179e"
            ],
            [
             0.4444444444444444,
             "#bd3786"
            ],
            [
             0.5555555555555556,
             "#d8576b"
            ],
            [
             0.6666666666666666,
             "#ed7953"
            ],
            [
             0.7777777777777778,
             "#fb9f3a"
            ],
            [
             0.8888888888888888,
             "#fdca26"
            ],
            [
             1,
             "#f0f921"
            ]
           ]
          },
          "colorway": [
           "#636efa",
           "#EF553B",
           "#00cc96",
           "#ab63fa",
           "#FFA15A",
           "#19d3f3",
           "#FF6692",
           "#B6E880",
           "#FF97FF",
           "#FECB52"
          ],
          "font": {
           "color": "#2a3f5f"
          },
          "geo": {
           "bgcolor": "white",
           "lakecolor": "white",
           "landcolor": "#E5ECF6",
           "showlakes": true,
           "showland": true,
           "subunitcolor": "white"
          },
          "hoverlabel": {
           "align": "left"
          },
          "hovermode": "closest",
          "mapbox": {
           "style": "light"
          },
          "paper_bgcolor": "white",
          "plot_bgcolor": "#E5ECF6",
          "polar": {
           "angularaxis": {
            "gridcolor": "white",
            "linecolor": "white",
            "ticks": ""
           },
           "bgcolor": "#E5ECF6",
           "radialaxis": {
            "gridcolor": "white",
            "linecolor": "white",
            "ticks": ""
           }
          },
          "scene": {
           "xaxis": {
            "backgroundcolor": "#E5ECF6",
            "gridcolor": "white",
            "gridwidth": 2,
            "linecolor": "white",
            "showbackground": true,
            "ticks": "",
            "zerolinecolor": "white"
           },
           "yaxis": {
            "backgroundcolor": "#E5ECF6",
            "gridcolor": "white",
            "gridwidth": 2,
            "linecolor": "white",
            "showbackground": true,
            "ticks": "",
            "zerolinecolor": "white"
           },
           "zaxis": {
            "backgroundcolor": "#E5ECF6",
            "gridcolor": "white",
            "gridwidth": 2,
            "linecolor": "white",
            "showbackground": true,
            "ticks": "",
            "zerolinecolor": "white"
           }
          },
          "shapedefaults": {
           "line": {
            "color": "#2a3f5f"
           }
          },
          "ternary": {
           "aaxis": {
            "gridcolor": "white",
            "linecolor": "white",
            "ticks": ""
           },
           "baxis": {
            "gridcolor": "white",
            "linecolor": "white",
            "ticks": ""
           },
           "bgcolor": "#E5ECF6",
           "caxis": {
            "gridcolor": "white",
            "linecolor": "white",
            "ticks": ""
           }
          },
          "title": {
           "x": 0.05
          },
          "xaxis": {
           "automargin": true,
           "gridcolor": "white",
           "linecolor": "white",
           "ticks": "",
           "title": {
            "standoff": 15
           },
           "zerolinecolor": "white",
           "zerolinewidth": 2
          },
          "yaxis": {
           "automargin": true,
           "gridcolor": "white",
           "linecolor": "white",
           "ticks": "",
           "title": {
            "standoff": 15
           },
           "zerolinecolor": "white",
           "zerolinewidth": 2
          }
         }
        },
        "xaxis": {
         "anchor": "y",
         "domain": [
          0,
          1
         ],
         "title": {
          "text": "date"
         }
        },
        "yaxis": {
         "anchor": "x",
         "domain": [
          0,
          1
         ],
         "title": {
          "text": "value"
         }
        }
       }
      }
     },
     "metadata": {},
     "output_type": "display_data"
    }
   ],
   "source": [
    "fig=px.scatter(date)\n",
    "fig.show()"
   ]
  },
  {
   "cell_type": "code",
   "execution_count": 14,
   "id": "5ebbf0df-378f-448a-aeb5-38b8e36c790b",
   "metadata": {},
   "outputs": [
    {
     "name": "stdout",
     "output_type": "stream",
     "text": [
      "      home_score  away_score\n",
      "date                        \n",
      "1872         NaN         NaN\n",
      "1873         NaN         NaN\n",
      "1874         NaN         NaN\n",
      "1875         NaN         NaN\n",
      "1876    0.707107    0.000000\n",
      "...          ...         ...\n",
      "2017    1.607180    1.252761\n",
      "2018    1.636332    1.325279\n",
      "2019    1.853891    1.444329\n",
      "2020    1.466428    1.028575\n",
      "2021    1.711229    1.373166\n",
      "\n",
      "[150 rows x 2 columns]\n"
     ]
    },
    {
     "data": {
      "application/vnd.plotly.v1+json": {
       "config": {
        "plotlyServerURL": "https://plot.ly"
       },
       "data": [
        {
         "hovertemplate": "variable=home_score<br>date=%{x}<br>value=%{y}<extra></extra>",
         "legendgroup": "home_score",
         "marker": {
          "color": "#636efa",
          "symbol": "circle"
         },
         "mode": "markers",
         "name": "home_score",
         "orientation": "v",
         "showlegend": true,
         "type": "scatter",
         "x": [
          1872,
          1873,
          1874,
          1875,
          1876,
          1877,
          1878,
          1879,
          1880,
          1881,
          1882,
          1883,
          1884,
          1885,
          1886,
          1887,
          1888,
          1889,
          1890,
          1891,
          1892,
          1893,
          1894,
          1895,
          1896,
          1897,
          1898,
          1899,
          1900,
          1901,
          1902,
          1903,
          1904,
          1905,
          1906,
          1907,
          1908,
          1909,
          1910,
          1911,
          1912,
          1913,
          1914,
          1915,
          1916,
          1917,
          1918,
          1919,
          1920,
          1921,
          1922,
          1923,
          1924,
          1925,
          1926,
          1927,
          1928,
          1929,
          1930,
          1931,
          1932,
          1933,
          1934,
          1935,
          1936,
          1937,
          1938,
          1939,
          1940,
          1941,
          1942,
          1943,
          1944,
          1945,
          1946,
          1947,
          1948,
          1949,
          1950,
          1951,
          1952,
          1953,
          1954,
          1955,
          1956,
          1957,
          1958,
          1959,
          1960,
          1961,
          1962,
          1963,
          1964,
          1965,
          1966,
          1967,
          1968,
          1969,
          1970,
          1971,
          1972,
          1973,
          1974,
          1975,
          1976,
          1977,
          1978,
          1979,
          1980,
          1981,
          1982,
          1983,
          1984,
          1985,
          1986,
          1987,
          1988,
          1989,
          1990,
          1991,
          1992,
          1993,
          1994,
          1995,
          1996,
          1997,
          1998,
          1999,
          2000,
          2001,
          2002,
          2003,
          2004,
          2005,
          2006,
          2007,
          2008,
          2009,
          2010,
          2011,
          2012,
          2013,
          2014,
          2015,
          2016,
          2017,
          2018,
          2019,
          2020,
          2021
         ],
         "xaxis": "x",
         "y": [
          null,
          null,
          null,
          null,
          0.7071067811865476,
          0.7071067811865476,
          1.4142135623730951,
          2.516611478423583,
          1.7320508075688772,
          0.5773502691896258,
          2.6076809620810595,
          2.9154759474226504,
          2.449489742783178,
          2.760262237369417,
          1.618347187425374,
          2.345207879911715,
          3.6514837167011076,
          2.804757862395017,
          2.065591117977289,
          2.0976176963403033,
          2.250925735484551,
          2.6076809620810595,
          1.6431676725154984,
          2.8751811537130436,
          2.1602468994692865,
          1.8618986725025257,
          1.96638416050035,
          5.115336417740935,
          2.0976176963403033,
          4.070217029430577,
          2.1998376563477846,
          1.4142135623730951,
          1.6414763002993509,
          2.050498830661811,
          1.780541959721722,
          1.589226549501683,
          2.464829530694692,
          1.2354415362426845,
          2.077350383393378,
          1.9656134827672413,
          2.1115964117718677,
          2.301990370063599,
          1.8210241712448696,
          2.2351360883251234,
          2.285098439202848,
          2.619602802063647,
          1.3906198364081264,
          1.563673801525036,
          1.9119263021554858,
          1.5589958960988668,
          1.8512039672733707,
          1.49639600331983,
          1.8920313276511567,
          1.7496913308027846,
          1.8140441842802533,
          2.3810632132130505,
          1.6590456390444575,
          2.0390644423510067,
          2.0666088128036466,
          1.9252013774259071,
          2.076733134714355,
          2.284928361176401,
          1.7231196258328518,
          1.698149551895187,
          1.7813973258539229,
          2.0086730675733695,
          2.065434464326576,
          1.8190556850833826,
          2.415877928500017,
          2.3542746975306175,
          2.5853840191189756,
          2.2386971000745843,
          1.977168531587242,
          2.3426684012243895,
          2.429906044007515,
          2.0173370142152622,
          1.915086304988774,
          2.129722385498541,
          2.2764858417418155,
          2.1346430687419,
          1.8154757018445622,
          1.900082100032446,
          2.030691409401652,
          1.8755580824931466,
          1.6630087233135389,
          1.7748044620385046,
          1.7287540176060894,
          1.8704045018921118,
          1.811803934115973,
          1.8525583162547101,
          1.7020681809004385,
          2.017504469278712,
          1.689484571553115,
          1.68332605631929,
          2.4002136657026267,
          1.6623293878333743,
          1.790224733495744,
          1.890752510231061,
          1.4811904785154613,
          2.357553635773738,
          1.6674318601793163,
          1.8566341844656646,
          1.6303698447915207,
          1.7435326298739253,
          1.5689838478448948,
          1.6337949195074044,
          1.6185125659180215,
          2.251394470615783,
          1.5686635078801558,
          1.5616856177576404,
          1.4357119653621473,
          1.6086144502142836,
          1.579235351205123,
          1.4681552260304522,
          1.2574449270009511,
          1.4618898343792148,
          1.3225828096104535,
          1.4824615181325305,
          1.367165239487265,
          1.6075268341664466,
          1.5723747232168814,
          1.5987462673528627,
          1.5348739979224193,
          1.6873397218693011,
          1.6709403063559052,
          1.7193215778542863,
          1.7881722975627918,
          1.712723232242436,
          2.0453269507288403,
          2.238577656682847,
          1.6155100603246189,
          2.058108211535679,
          1.7644410221380422,
          1.49500188307348,
          1.7923505623276952,
          1.6925118700510735,
          1.534374849297694,
          1.5867452567903453,
          1.6006597645571718,
          1.6073113637973444,
          1.756568383333361,
          1.5426454736554756,
          1.4067662404894363,
          1.596716376519528,
          1.5944278687883982,
          1.607180285649859,
          1.636331976725977,
          1.8538910100246677,
          1.4664278246967046,
          1.7112291722840842
         ],
         "yaxis": "y"
        },
        {
         "hovertemplate": "variable=away_score<br>date=%{x}<br>value=%{y}<extra></extra>",
         "legendgroup": "away_score",
         "marker": {
          "color": "#EF553B",
          "symbol": "circle"
         },
         "mode": "markers",
         "name": "away_score",
         "orientation": "v",
         "showlegend": true,
         "type": "scatter",
         "x": [
          1872,
          1873,
          1874,
          1875,
          1876,
          1877,
          1878,
          1879,
          1880,
          1881,
          1882,
          1883,
          1884,
          1885,
          1886,
          1887,
          1888,
          1889,
          1890,
          1891,
          1892,
          1893,
          1894,
          1895,
          1896,
          1897,
          1898,
          1899,
          1900,
          1901,
          1902,
          1903,
          1904,
          1905,
          1906,
          1907,
          1908,
          1909,
          1910,
          1911,
          1912,
          1913,
          1914,
          1915,
          1916,
          1917,
          1918,
          1919,
          1920,
          1921,
          1922,
          1923,
          1924,
          1925,
          1926,
          1927,
          1928,
          1929,
          1930,
          1931,
          1932,
          1933,
          1934,
          1935,
          1936,
          1937,
          1938,
          1939,
          1940,
          1941,
          1942,
          1943,
          1944,
          1945,
          1946,
          1947,
          1948,
          1949,
          1950,
          1951,
          1952,
          1953,
          1954,
          1955,
          1956,
          1957,
          1958,
          1959,
          1960,
          1961,
          1962,
          1963,
          1964,
          1965,
          1966,
          1967,
          1968,
          1969,
          1970,
          1971,
          1972,
          1973,
          1974,
          1975,
          1976,
          1977,
          1978,
          1979,
          1980,
          1981,
          1982,
          1983,
          1984,
          1985,
          1986,
          1987,
          1988,
          1989,
          1990,
          1991,
          1992,
          1993,
          1994,
          1995,
          1996,
          1997,
          1998,
          1999,
          2000,
          2001,
          2002,
          2003,
          2004,
          2005,
          2006,
          2007,
          2008,
          2009,
          2010,
          2011,
          2012,
          2013,
          2014,
          2015,
          2016,
          2017,
          2018,
          2019,
          2020,
          2021
         ],
         "xaxis": "x",
         "y": [
          null,
          null,
          null,
          null,
          0,
          0.7071067811865476,
          1.4142135623730951,
          1.5275252316519468,
          1.5275252316519465,
          2.6457513110645907,
          5.366563145999495,
          1.51657508881031,
          3.22490309931942,
          3.4641016151377544,
          2.6726124191242437,
          1.1690451944500122,
          3.7161167647860323,
          1.3662601021279464,
          3.188521078284832,
          1.2110601416389968,
          1.1690451944500122,
          3.2093613071762426,
          1.3662601021279464,
          0.8944271909999159,
          3.265986323710904,
          1.2110601416389966,
          0.8366600265340756,
          2.250925735484551,
          1.0488088481701516,
          0.816496580927726,
          2.2519832529192065,
          0.9660917830792959,
          1.3017082793177757,
          1.2154310870109943,
          1.6723346844167577,
          1.126601424298216,
          2.5056858419326113,
          2.38636477557503,
          1.4904826270501985,
          1.4892290053255846,
          2.5195591157287462,
          2.076276563887359,
          1.2295641329305471,
          1.2632629707758134,
          1.1457782864819,
          3.021361148291577,
          0.8574929257125441,
          1.294656851693283,
          1.4094518870286914,
          1.3418230764201726,
          1.2667690215495029,
          1.5673000552450176,
          1.5231584797171998,
          1.517592310125841,
          1.612104075989118,
          1.8548601912580704,
          1.4384676531605394,
          1.6832955445774993,
          1.4815570653432428,
          1.650262917717811,
          1.427447665452866,
          1.307546335452338,
          1.7223007498803065,
          1.402635010896098,
          1.673021482699813,
          1.7125792573159146,
          1.7248928379569535,
          1.4002800840280099,
          1.3889557210319807,
          1.52542553961938,
          1.7124049833691999,
          1.629558892729548,
          1.4015590662158885,
          1.668377098517341,
          1.681345614953415,
          1.8804871400937502,
          1.7497573527923223,
          1.6749023891693011,
          1.469752754776517,
          1.614807447587329,
          1.9648141776319938,
          1.6519879053458197,
          1.8208339412507497,
          1.7354830929731135,
          1.5691976487346881,
          1.6281889080421412,
          1.40618915815978,
          1.6096283173461319,
          1.623244183605896,
          1.352118230281099,
          1.5636222687316503,
          1.9634123736764513,
          1.7946360251660296,
          1.4308183462414406,
          1.379885346958304,
          1.3853542375120582,
          1.3171404315239938,
          1.4772732253500644,
          1.307382286237503,
          1.6593330574689438,
          1.3165355123691158,
          1.241994451451504,
          1.1722985064984042,
          1.476817174053908,
          1.312912159685642,
          1.124738618271788,
          1.3452546239498273,
          1.3846490124509143,
          1.2892133220331174,
          1.1693234650096362,
          1.1242265258982393,
          1.5725593833167444,
          1.1399868652506013,
          1.1580722287758172,
          1.1497389092826902,
          1.5130477490018062,
          1.0820116794546735,
          1.0587257047895904,
          1.1081352888171128,
          1.515525239128795,
          1.2044684363063785,
          1.3259392475146319,
          1.1870169932804282,
          1.482134149195196,
          1.3516640854317103,
          1.4330646415121333,
          1.2511678243520694,
          1.2597462620922444,
          1.2185307513688637,
          1.3840108891644247,
          1.2368376422010785,
          1.5842314909861315,
          1.3092658226748044,
          1.5087768355524163,
          1.3062640579655582,
          1.3652323306274006,
          1.1882468515636528,
          1.1933123066382667,
          1.212504550073492,
          1.4622107904343886,
          1.4970915752568623,
          1.2638960689957737,
          1.5826658519942498,
          1.3269699276773632,
          1.31887976706492,
          1.2527611665864062,
          1.3252787880165493,
          1.4443285714283274,
          1.028574948081122,
          1.3731662069627133
         ],
         "yaxis": "y"
        }
       ],
       "layout": {
        "legend": {
         "title": {
          "text": "variable"
         },
         "tracegroupgap": 0
        },
        "margin": {
         "t": 60
        },
        "template": {
         "data": {
          "bar": [
           {
            "error_x": {
             "color": "#2a3f5f"
            },
            "error_y": {
             "color": "#2a3f5f"
            },
            "marker": {
             "line": {
              "color": "#E5ECF6",
              "width": 0.5
             },
             "pattern": {
              "fillmode": "overlay",
              "size": 10,
              "solidity": 0.2
             }
            },
            "type": "bar"
           }
          ],
          "barpolar": [
           {
            "marker": {
             "line": {
              "color": "#E5ECF6",
              "width": 0.5
             },
             "pattern": {
              "fillmode": "overlay",
              "size": 10,
              "solidity": 0.2
             }
            },
            "type": "barpolar"
           }
          ],
          "carpet": [
           {
            "aaxis": {
             "endlinecolor": "#2a3f5f",
             "gridcolor": "white",
             "linecolor": "white",
             "minorgridcolor": "white",
             "startlinecolor": "#2a3f5f"
            },
            "baxis": {
             "endlinecolor": "#2a3f5f",
             "gridcolor": "white",
             "linecolor": "white",
             "minorgridcolor": "white",
             "startlinecolor": "#2a3f5f"
            },
            "type": "carpet"
           }
          ],
          "choropleth": [
           {
            "colorbar": {
             "outlinewidth": 0,
             "ticks": ""
            },
            "type": "choropleth"
           }
          ],
          "contour": [
           {
            "colorbar": {
             "outlinewidth": 0,
             "ticks": ""
            },
            "colorscale": [
             [
              0,
              "#0d0887"
             ],
             [
              0.1111111111111111,
              "#46039f"
             ],
             [
              0.2222222222222222,
              "#7201a8"
             ],
             [
              0.3333333333333333,
              "#9c179e"
             ],
             [
              0.4444444444444444,
              "#bd3786"
             ],
             [
              0.5555555555555556,
              "#d8576b"
             ],
             [
              0.6666666666666666,
              "#ed7953"
             ],
             [
              0.7777777777777778,
              "#fb9f3a"
             ],
             [
              0.8888888888888888,
              "#fdca26"
             ],
             [
              1,
              "#f0f921"
             ]
            ],
            "type": "contour"
           }
          ],
          "contourcarpet": [
           {
            "colorbar": {
             "outlinewidth": 0,
             "ticks": ""
            },
            "type": "contourcarpet"
           }
          ],
          "heatmap": [
           {
            "colorbar": {
             "outlinewidth": 0,
             "ticks": ""
            },
            "colorscale": [
             [
              0,
              "#0d0887"
             ],
             [
              0.1111111111111111,
              "#46039f"
             ],
             [
              0.2222222222222222,
              "#7201a8"
             ],
             [
              0.3333333333333333,
              "#9c179e"
             ],
             [
              0.4444444444444444,
              "#bd3786"
             ],
             [
              0.5555555555555556,
              "#d8576b"
             ],
             [
              0.6666666666666666,
              "#ed7953"
             ],
             [
              0.7777777777777778,
              "#fb9f3a"
             ],
             [
              0.8888888888888888,
              "#fdca26"
             ],
             [
              1,
              "#f0f921"
             ]
            ],
            "type": "heatmap"
           }
          ],
          "heatmapgl": [
           {
            "colorbar": {
             "outlinewidth": 0,
             "ticks": ""
            },
            "colorscale": [
             [
              0,
              "#0d0887"
             ],
             [
              0.1111111111111111,
              "#46039f"
             ],
             [
              0.2222222222222222,
              "#7201a8"
             ],
             [
              0.3333333333333333,
              "#9c179e"
             ],
             [
              0.4444444444444444,
              "#bd3786"
             ],
             [
              0.5555555555555556,
              "#d8576b"
             ],
             [
              0.6666666666666666,
              "#ed7953"
             ],
             [
              0.7777777777777778,
              "#fb9f3a"
             ],
             [
              0.8888888888888888,
              "#fdca26"
             ],
             [
              1,
              "#f0f921"
             ]
            ],
            "type": "heatmapgl"
           }
          ],
          "histogram": [
           {
            "marker": {
             "pattern": {
              "fillmode": "overlay",
              "size": 10,
              "solidity": 0.2
             }
            },
            "type": "histogram"
           }
          ],
          "histogram2d": [
           {
            "colorbar": {
             "outlinewidth": 0,
             "ticks": ""
            },
            "colorscale": [
             [
              0,
              "#0d0887"
             ],
             [
              0.1111111111111111,
              "#46039f"
             ],
             [
              0.2222222222222222,
              "#7201a8"
             ],
             [
              0.3333333333333333,
              "#9c179e"
             ],
             [
              0.4444444444444444,
              "#bd3786"
             ],
             [
              0.5555555555555556,
              "#d8576b"
             ],
             [
              0.6666666666666666,
              "#ed7953"
             ],
             [
              0.7777777777777778,
              "#fb9f3a"
             ],
             [
              0.8888888888888888,
              "#fdca26"
             ],
             [
              1,
              "#f0f921"
             ]
            ],
            "type": "histogram2d"
           }
          ],
          "histogram2dcontour": [
           {
            "colorbar": {
             "outlinewidth": 0,
             "ticks": ""
            },
            "colorscale": [
             [
              0,
              "#0d0887"
             ],
             [
              0.1111111111111111,
              "#46039f"
             ],
             [
              0.2222222222222222,
              "#7201a8"
             ],
             [
              0.3333333333333333,
              "#9c179e"
             ],
             [
              0.4444444444444444,
              "#bd3786"
             ],
             [
              0.5555555555555556,
              "#d8576b"
             ],
             [
              0.6666666666666666,
              "#ed7953"
             ],
             [
              0.7777777777777778,
              "#fb9f3a"
             ],
             [
              0.8888888888888888,
              "#fdca26"
             ],
             [
              1,
              "#f0f921"
             ]
            ],
            "type": "histogram2dcontour"
           }
          ],
          "mesh3d": [
           {
            "colorbar": {
             "outlinewidth": 0,
             "ticks": ""
            },
            "type": "mesh3d"
           }
          ],
          "parcoords": [
           {
            "line": {
             "colorbar": {
              "outlinewidth": 0,
              "ticks": ""
             }
            },
            "type": "parcoords"
           }
          ],
          "pie": [
           {
            "automargin": true,
            "type": "pie"
           }
          ],
          "scatter": [
           {
            "fillpattern": {
             "fillmode": "overlay",
             "size": 10,
             "solidity": 0.2
            },
            "type": "scatter"
           }
          ],
          "scatter3d": [
           {
            "line": {
             "colorbar": {
              "outlinewidth": 0,
              "ticks": ""
             }
            },
            "marker": {
             "colorbar": {
              "outlinewidth": 0,
              "ticks": ""
             }
            },
            "type": "scatter3d"
           }
          ],
          "scattercarpet": [
           {
            "marker": {
             "colorbar": {
              "outlinewidth": 0,
              "ticks": ""
             }
            },
            "type": "scattercarpet"
           }
          ],
          "scattergeo": [
           {
            "marker": {
             "colorbar": {
              "outlinewidth": 0,
              "ticks": ""
             }
            },
            "type": "scattergeo"
           }
          ],
          "scattergl": [
           {
            "marker": {
             "colorbar": {
              "outlinewidth": 0,
              "ticks": ""
             }
            },
            "type": "scattergl"
           }
          ],
          "scattermapbox": [
           {
            "marker": {
             "colorbar": {
              "outlinewidth": 0,
              "ticks": ""
             }
            },
            "type": "scattermapbox"
           }
          ],
          "scatterpolar": [
           {
            "marker": {
             "colorbar": {
              "outlinewidth": 0,
              "ticks": ""
             }
            },
            "type": "scatterpolar"
           }
          ],
          "scatterpolargl": [
           {
            "marker": {
             "colorbar": {
              "outlinewidth": 0,
              "ticks": ""
             }
            },
            "type": "scatterpolargl"
           }
          ],
          "scatterternary": [
           {
            "marker": {
             "colorbar": {
              "outlinewidth": 0,
              "ticks": ""
             }
            },
            "type": "scatterternary"
           }
          ],
          "surface": [
           {
            "colorbar": {
             "outlinewidth": 0,
             "ticks": ""
            },
            "colorscale": [
             [
              0,
              "#0d0887"
             ],
             [
              0.1111111111111111,
              "#46039f"
             ],
             [
              0.2222222222222222,
              "#7201a8"
             ],
             [
              0.3333333333333333,
              "#9c179e"
             ],
             [
              0.4444444444444444,
              "#bd3786"
             ],
             [
              0.5555555555555556,
              "#d8576b"
             ],
             [
              0.6666666666666666,
              "#ed7953"
             ],
             [
              0.7777777777777778,
              "#fb9f3a"
             ],
             [
              0.8888888888888888,
              "#fdca26"
             ],
             [
              1,
              "#f0f921"
             ]
            ],
            "type": "surface"
           }
          ],
          "table": [
           {
            "cells": {
             "fill": {
              "color": "#EBF0F8"
             },
             "line": {
              "color": "white"
             }
            },
            "header": {
             "fill": {
              "color": "#C8D4E3"
             },
             "line": {
              "color": "white"
             }
            },
            "type": "table"
           }
          ]
         },
         "layout": {
          "annotationdefaults": {
           "arrowcolor": "#2a3f5f",
           "arrowhead": 0,
           "arrowwidth": 1
          },
          "autotypenumbers": "strict",
          "coloraxis": {
           "colorbar": {
            "outlinewidth": 0,
            "ticks": ""
           }
          },
          "colorscale": {
           "diverging": [
            [
             0,
             "#8e0152"
            ],
            [
             0.1,
             "#c51b7d"
            ],
            [
             0.2,
             "#de77ae"
            ],
            [
             0.3,
             "#f1b6da"
            ],
            [
             0.4,
             "#fde0ef"
            ],
            [
             0.5,
             "#f7f7f7"
            ],
            [
             0.6,
             "#e6f5d0"
            ],
            [
             0.7,
             "#b8e186"
            ],
            [
             0.8,
             "#7fbc41"
            ],
            [
             0.9,
             "#4d9221"
            ],
            [
             1,
             "#276419"
            ]
           ],
           "sequential": [
            [
             0,
             "#0d0887"
            ],
            [
             0.1111111111111111,
             "#46039f"
            ],
            [
             0.2222222222222222,
             "#7201a8"
            ],
            [
             0.3333333333333333,
             "#9c179e"
            ],
            [
             0.4444444444444444,
             "#bd3786"
            ],
            [
             0.5555555555555556,
             "#d8576b"
            ],
            [
             0.6666666666666666,
             "#ed7953"
            ],
            [
             0.7777777777777778,
             "#fb9f3a"
            ],
            [
             0.8888888888888888,
             "#fdca26"
            ],
            [
             1,
             "#f0f921"
            ]
           ],
           "sequentialminus": [
            [
             0,
             "#0d0887"
            ],
            [
             0.1111111111111111,
             "#46039f"
            ],
            [
             0.2222222222222222,
             "#7201a8"
            ],
            [
             0.3333333333333333,
             "#9c179e"
            ],
            [
             0.4444444444444444,
             "#bd3786"
            ],
            [
             0.5555555555555556,
             "#d8576b"
            ],
            [
             0.6666666666666666,
             "#ed7953"
            ],
            [
             0.7777777777777778,
             "#fb9f3a"
            ],
            [
             0.8888888888888888,
             "#fdca26"
            ],
            [
             1,
             "#f0f921"
            ]
           ]
          },
          "colorway": [
           "#636efa",
           "#EF553B",
           "#00cc96",
           "#ab63fa",
           "#FFA15A",
           "#19d3f3",
           "#FF6692",
           "#B6E880",
           "#FF97FF",
           "#FECB52"
          ],
          "font": {
           "color": "#2a3f5f"
          },
          "geo": {
           "bgcolor": "white",
           "lakecolor": "white",
           "landcolor": "#E5ECF6",
           "showlakes": true,
           "showland": true,
           "subunitcolor": "white"
          },
          "hoverlabel": {
           "align": "left"
          },
          "hovermode": "closest",
          "mapbox": {
           "style": "light"
          },
          "paper_bgcolor": "white",
          "plot_bgcolor": "#E5ECF6",
          "polar": {
           "angularaxis": {
            "gridcolor": "white",
            "linecolor": "white",
            "ticks": ""
           },
           "bgcolor": "#E5ECF6",
           "radialaxis": {
            "gridcolor": "white",
            "linecolor": "white",
            "ticks": ""
           }
          },
          "scene": {
           "xaxis": {
            "backgroundcolor": "#E5ECF6",
            "gridcolor": "white",
            "gridwidth": 2,
            "linecolor": "white",
            "showbackground": true,
            "ticks": "",
            "zerolinecolor": "white"
           },
           "yaxis": {
            "backgroundcolor": "#E5ECF6",
            "gridcolor": "white",
            "gridwidth": 2,
            "linecolor": "white",
            "showbackground": true,
            "ticks": "",
            "zerolinecolor": "white"
           },
           "zaxis": {
            "backgroundcolor": "#E5ECF6",
            "gridcolor": "white",
            "gridwidth": 2,
            "linecolor": "white",
            "showbackground": true,
            "ticks": "",
            "zerolinecolor": "white"
           }
          },
          "shapedefaults": {
           "line": {
            "color": "#2a3f5f"
           }
          },
          "ternary": {
           "aaxis": {
            "gridcolor": "white",
            "linecolor": "white",
            "ticks": ""
           },
           "baxis": {
            "gridcolor": "white",
            "linecolor": "white",
            "ticks": ""
           },
           "bgcolor": "#E5ECF6",
           "caxis": {
            "gridcolor": "white",
            "linecolor": "white",
            "ticks": ""
           }
          },
          "title": {
           "x": 0.05
          },
          "xaxis": {
           "automargin": true,
           "gridcolor": "white",
           "linecolor": "white",
           "ticks": "",
           "title": {
            "standoff": 15
           },
           "zerolinecolor": "white",
           "zerolinewidth": 2
          },
          "yaxis": {
           "automargin": true,
           "gridcolor": "white",
           "linecolor": "white",
           "ticks": "",
           "title": {
            "standoff": 15
           },
           "zerolinecolor": "white",
           "zerolinewidth": 2
          }
         }
        },
        "xaxis": {
         "anchor": "y",
         "domain": [
          0,
          1
         ],
         "title": {
          "text": "date"
         }
        },
        "yaxis": {
         "anchor": "x",
         "domain": [
          0,
          1
         ],
         "title": {
          "text": "value"
         }
        }
       }
      }
     },
     "metadata": {},
     "output_type": "display_data"
    }
   ],
   "source": [
    "date1=df.groupby([an,]).std()\n",
    "print(date1)\n",
    "fig1=px.scatter(date1)\n",
    "fig1.show()"
   ]
  },
  {
   "cell_type": "code",
   "execution_count": 15,
   "id": "ef3fbe43-df32-43a1-aa12-ed470fcda08b",
   "metadata": {},
   "outputs": [
    {
     "name": "stdout",
     "output_type": "stream",
     "text": [
      "      home_score  away_score\n",
      "date                        \n",
      "1872         NaN         NaN\n",
      "1873         NaN         NaN\n",
      "1874         NaN         NaN\n",
      "1875         NaN         NaN\n",
      "1876    0.500000    0.000000\n",
      "...          ...         ...\n",
      "2017    2.583028    1.569411\n",
      "2018    2.677582    1.756364\n",
      "2019    3.436912    2.086085\n",
      "2020    2.150411    1.057966\n",
      "2021    2.928305    1.885585\n",
      "\n",
      "[150 rows x 2 columns]\n"
     ]
    }
   ],
   "source": [
    "date1=df.groupby([an,]).var()\n",
    "print(date1)"
   ]
  },
  {
   "cell_type": "code",
   "execution_count": 16,
   "id": "1998046d-8d0c-4192-8958-f742388d35ce",
   "metadata": {},
   "outputs": [
    {
     "data": {
      "application/vnd.plotly.v1+json": {
       "config": {
        "plotlyServerURL": "https://plot.ly"
       },
       "data": [
        {
         "hovertemplate": "variable=home_score<br>date=%{x}<br>value=%{y}<extra></extra>",
         "legendgroup": "home_score",
         "marker": {
          "color": "#636efa",
          "symbol": "circle"
         },
         "mode": "markers",
         "name": "home_score",
         "orientation": "v",
         "showlegend": true,
         "type": "scatter",
         "x": [
          1872,
          1873,
          1874,
          1875,
          1876,
          1877,
          1878,
          1879,
          1880,
          1881,
          1882,
          1883,
          1884,
          1885,
          1886,
          1887,
          1888,
          1889,
          1890,
          1891,
          1892,
          1893,
          1894,
          1895,
          1896,
          1897,
          1898,
          1899,
          1900,
          1901,
          1902,
          1903,
          1904,
          1905,
          1906,
          1907,
          1908,
          1909,
          1910,
          1911,
          1912,
          1913,
          1914,
          1915,
          1916,
          1917,
          1918,
          1919,
          1920,
          1921,
          1922,
          1923,
          1924,
          1925,
          1926,
          1927,
          1928,
          1929,
          1930,
          1931,
          1932,
          1933,
          1934,
          1935,
          1936,
          1937,
          1938,
          1939,
          1940,
          1941,
          1942,
          1943,
          1944,
          1945,
          1946,
          1947,
          1948,
          1949,
          1950,
          1951,
          1952,
          1953,
          1954,
          1955,
          1956,
          1957,
          1958,
          1959,
          1960,
          1961,
          1962,
          1963,
          1964,
          1965,
          1966,
          1967,
          1968,
          1969,
          1970,
          1971,
          1972,
          1973,
          1974,
          1975,
          1976,
          1977,
          1978,
          1979,
          1980,
          1981,
          1982,
          1983,
          1984,
          1985,
          1986,
          1987,
          1988,
          1989,
          1990,
          1991,
          1992,
          1993,
          1994,
          1995,
          1996,
          1997,
          1998,
          1999,
          2000,
          2001,
          2002,
          2003,
          2004,
          2005,
          2006,
          2007,
          2008,
          2009,
          2010,
          2011,
          2012,
          2013,
          2014,
          2015,
          2016,
          2017,
          2018,
          2019,
          2020,
          2021
         ],
         "xaxis": "x",
         "y": [
          null,
          null,
          null,
          null,
          0.5,
          0.5,
          2,
          6.333333333333333,
          3,
          0.33333333333333337,
          6.8,
          8.5,
          6,
          7.6190476190476195,
          2.619047619047619,
          5.5,
          13.333333333333334,
          7.866666666666665,
          4.266666666666667,
          4.4,
          5.066666666666667,
          6.8,
          2.7,
          8.266666666666667,
          4.666666666666666,
          3.4666666666666672,
          3.8666666666666663,
          26.166666666666664,
          4.4,
          16.566666666666666,
          4.839285714285714,
          2,
          2.6944444444444446,
          4.204545454545454,
          3.1703296703296706,
          2.5256410256410255,
          6.075384615384616,
          1.5263157894736843,
          4.315384615384614,
          3.863636363636364,
          4.458839406207828,
          5.299159663865545,
          3.3161290322580643,
          4.995833333333334,
          5.221674876847291,
          6.862318840579712,
          1.9338235294117643,
          2.445075757575758,
          3.65546218487395,
          2.430468204053109,
          3.4269561284486665,
          2.2392009987515604,
          3.5797825448133986,
          3.06141975308642,
          3.290756302521009,
          5.669462025316457,
          2.7524324324324323,
          4.157783800060222,
          4.270871985157698,
          3.70640034364261,
          4.312820512820512,
          5.2208976157082745,
          2.969141244930347,
          2.883711900601824,
          3.1733764325595075,
          4.034767492394611,
          4.26601952642801,
          3.3089635854341743,
          5.836466165413533,
          5.54260935143288,
          6.684210526315788,
          5.011764705882353,
          3.9091954022988507,
          5.488095238095237,
          5.90444338270425,
          4.069648628922948,
          3.6675555555555555,
          4.535717439293597,
          5.182387787650942,
          4.556701030927836,
          3.2959520239880056,
          3.61031198686371,
          4.123707600217668,
          3.517718120805369,
          2.7655980138169265,
          3.149930878471786,
          2.9885904533891954,
          3.498413000698279,
          3.2826334956781174,
          3.4319723151244865,
          2.8970360924337277,
          4.070324283559577,
          2.8543581175160124,
          2.833586611883453,
          5.7610256410256415,
          2.763338993654481,
          3.2049045964199077,
          3.574945054945058,
          2.193925233644861,
          5.558059145549971,
          2.780329008341055,
          3.447090494926484,
          2.658105830805527,
          3.0399060314350863,
          2.4617103147981716,
          2.6692858390082064,
          2.6195829260345382,
          5.068777062319323,
          2.4607052009548758,
          2.438861968711063,
          2.0612688474840395,
          2.5876404494382017,
          2.4939842944959683,
          2.155479767720528,
          1.5811677444404275,
          2.137121887861288,
          1.749225288277081,
          2.197692152743807,
          1.869140792062271,
          2.584142522565198,
          2.472362270211365,
          2.555989627374711,
          2.3558381894983507,
          2.8471153369979705,
          2.792041507404766,
          2.956066688075353,
          3.1975601657709936,
          2.933420870262977,
          4.183362335377735,
          5.011229924999666,
          2.6098727550100533,
          4.235809410390591,
          3.1132521206035393,
          2.235030630393251,
          3.212520538276405,
          2.8645964302637816,
          2.3543061781573216,
          2.517760509946659,
          2.5621116818722207,
          2.583449820192079,
          3.085532485326377,
          2.3797550573897266,
          1.9789912553807825,
          2.5495031870456515,
          2.5422002287691132,
          2.583028470581562,
          2.677582338055943,
          3.436911877050283,
          2.150410565044709,
          2.928305280076072
         ],
         "yaxis": "y"
        },
        {
         "hovertemplate": "variable=away_score<br>date=%{x}<br>value=%{y}<extra></extra>",
         "legendgroup": "away_score",
         "marker": {
          "color": "#EF553B",
          "symbol": "circle"
         },
         "mode": "markers",
         "name": "away_score",
         "orientation": "v",
         "showlegend": true,
         "type": "scatter",
         "x": [
          1872,
          1873,
          1874,
          1875,
          1876,
          1877,
          1878,
          1879,
          1880,
          1881,
          1882,
          1883,
          1884,
          1885,
          1886,
          1887,
          1888,
          1889,
          1890,
          1891,
          1892,
          1893,
          1894,
          1895,
          1896,
          1897,
          1898,
          1899,
          1900,
          1901,
          1902,
          1903,
          1904,
          1905,
          1906,
          1907,
          1908,
          1909,
          1910,
          1911,
          1912,
          1913,
          1914,
          1915,
          1916,
          1917,
          1918,
          1919,
          1920,
          1921,
          1922,
          1923,
          1924,
          1925,
          1926,
          1927,
          1928,
          1929,
          1930,
          1931,
          1932,
          1933,
          1934,
          1935,
          1936,
          1937,
          1938,
          1939,
          1940,
          1941,
          1942,
          1943,
          1944,
          1945,
          1946,
          1947,
          1948,
          1949,
          1950,
          1951,
          1952,
          1953,
          1954,
          1955,
          1956,
          1957,
          1958,
          1959,
          1960,
          1961,
          1962,
          1963,
          1964,
          1965,
          1966,
          1967,
          1968,
          1969,
          1970,
          1971,
          1972,
          1973,
          1974,
          1975,
          1976,
          1977,
          1978,
          1979,
          1980,
          1981,
          1982,
          1983,
          1984,
          1985,
          1986,
          1987,
          1988,
          1989,
          1990,
          1991,
          1992,
          1993,
          1994,
          1995,
          1996,
          1997,
          1998,
          1999,
          2000,
          2001,
          2002,
          2003,
          2004,
          2005,
          2006,
          2007,
          2008,
          2009,
          2010,
          2011,
          2012,
          2013,
          2014,
          2015,
          2016,
          2017,
          2018,
          2019,
          2020,
          2021
         ],
         "xaxis": "x",
         "y": [
          null,
          null,
          null,
          null,
          0,
          0.5,
          2,
          2.3333333333333335,
          2.333333333333333,
          7,
          28.8,
          2.3,
          10.4,
          12,
          7.142857142857142,
          1.3666666666666667,
          13.809523809523808,
          1.8666666666666667,
          10.166666666666668,
          1.4666666666666668,
          1.3666666666666667,
          10.3,
          1.8666666666666665,
          0.8,
          10.666666666666668,
          1.4666666666666666,
          0.7,
          5.066666666666667,
          1.1,
          0.6666666666666667,
          5.071428571428571,
          0.9333333333333333,
          1.6944444444444444,
          1.4772727272727273,
          2.7967032967032965,
          1.2692307692307692,
          6.278461538461539,
          5.6947368421052635,
          2.2215384615384615,
          2.2178030303030303,
          6.348178137651821,
          4.310924369747898,
          1.511827956989248,
          1.5958333333333337,
          1.3128078817733988,
          9.128623188405797,
          0.7352941176470587,
          1.6761363636363638,
          1.986554621848739,
          1.8004891684136963,
          1.604703753957485,
          2.4564294631710353,
          2.320011754334411,
          2.303086419753087,
          2.598879551820728,
          3.4405063291139255,
          2.06918918918919,
          2.8334838903944597,
          2.1950113378684817,
          2.7233676975945023,
          2.0376068376068375,
          1.7096774193548383,
          2.966319873038266,
          1.967384973791497,
          2.7990008815750813,
          2.9329277125887296,
          2.9752553024351927,
          1.9607843137254903,
          1.9291979949874694,
          2.3269230769230766,
          2.93233082706767,
          2.6554621848739504,
          1.9643678160919535,
          2.7834821428571415,
          2.826923076923077,
          3.5362318840579716,
          3.0616507936507955,
          2.805298013245033,
          2.1601731601731604,
          2.6076030927835046,
          3.8604947526236884,
          2.729064039408869,
          3.3154362416107386,
          3.0119015659955246,
          2.4623812607944737,
          2.6509991202714605,
          1.977367948526111,
          2.59090332000254,
          2.634921679610372,
          1.8282237086584912,
          2.4449145992735133,
          3.8549881491057967,
          3.2207184628237258,
          2.047241139941091,
          1.9040835707502388,
          1.9192063633926164,
          1.7348589163552126,
          2.182336182336182,
          1.7092484423676004,
          2.7533861956092327,
          1.7332657553290105,
          1.5425502174363226,
          1.3742837883383887,
          2.1809889655805708,
          1.7237383390504162,
          1.2650369594319308,
          1.8097100032583913,
          1.917252887681292,
          1.6620709897076669,
          1.3673173658221418,
          1.2638852815332247,
          2.4729430140575395,
          1.2995700529438927,
          1.3411312870617884,
          1.32189955951855,
          2.2893134907594326,
          1.1707492744763228,
          1.1209001179822151,
          1.2279638183217858,
          2.296816750436391,
          1.4507442140583326,
          1.7581148880996682,
          1.4090093423365082,
          2.1967216362105675,
          1.826995799845942,
          2.053674266752299,
          1.5654209246938906,
          1.5869606448553815,
          1.4848171920315676,
          1.9154861413257016,
          1.5297673531655231,
          2.509789417032141,
          1.7141769944243326,
          2.2764075394995626,
          1.706325789132647,
          1.863859316590324,
          1.4119305802509339,
          1.4239942611743406,
          1.4701672839489213,
          2.1380603956627593,
          2.2412831847050736,
          1.5974332732229695,
          2.5048311990686845,
          1.7608491889600666,
          1.7394438399732175,
          1.5694105405069334,
          1.7563638659666139,
          2.086085022244193,
          1.0579664238200825,
          1.8855854319443655
         ],
         "yaxis": "y"
        }
       ],
       "layout": {
        "legend": {
         "title": {
          "text": "variable"
         },
         "tracegroupgap": 0
        },
        "margin": {
         "t": 60
        },
        "template": {
         "data": {
          "bar": [
           {
            "error_x": {
             "color": "#2a3f5f"
            },
            "error_y": {
             "color": "#2a3f5f"
            },
            "marker": {
             "line": {
              "color": "#E5ECF6",
              "width": 0.5
             },
             "pattern": {
              "fillmode": "overlay",
              "size": 10,
              "solidity": 0.2
             }
            },
            "type": "bar"
           }
          ],
          "barpolar": [
           {
            "marker": {
             "line": {
              "color": "#E5ECF6",
              "width": 0.5
             },
             "pattern": {
              "fillmode": "overlay",
              "size": 10,
              "solidity": 0.2
             }
            },
            "type": "barpolar"
           }
          ],
          "carpet": [
           {
            "aaxis": {
             "endlinecolor": "#2a3f5f",
             "gridcolor": "white",
             "linecolor": "white",
             "minorgridcolor": "white",
             "startlinecolor": "#2a3f5f"
            },
            "baxis": {
             "endlinecolor": "#2a3f5f",
             "gridcolor": "white",
             "linecolor": "white",
             "minorgridcolor": "white",
             "startlinecolor": "#2a3f5f"
            },
            "type": "carpet"
           }
          ],
          "choropleth": [
           {
            "colorbar": {
             "outlinewidth": 0,
             "ticks": ""
            },
            "type": "choropleth"
           }
          ],
          "contour": [
           {
            "colorbar": {
             "outlinewidth": 0,
             "ticks": ""
            },
            "colorscale": [
             [
              0,
              "#0d0887"
             ],
             [
              0.1111111111111111,
              "#46039f"
             ],
             [
              0.2222222222222222,
              "#7201a8"
             ],
             [
              0.3333333333333333,
              "#9c179e"
             ],
             [
              0.4444444444444444,
              "#bd3786"
             ],
             [
              0.5555555555555556,
              "#d8576b"
             ],
             [
              0.6666666666666666,
              "#ed7953"
             ],
             [
              0.7777777777777778,
              "#fb9f3a"
             ],
             [
              0.8888888888888888,
              "#fdca26"
             ],
             [
              1,
              "#f0f921"
             ]
            ],
            "type": "contour"
           }
          ],
          "contourcarpet": [
           {
            "colorbar": {
             "outlinewidth": 0,
             "ticks": ""
            },
            "type": "contourcarpet"
           }
          ],
          "heatmap": [
           {
            "colorbar": {
             "outlinewidth": 0,
             "ticks": ""
            },
            "colorscale": [
             [
              0,
              "#0d0887"
             ],
             [
              0.1111111111111111,
              "#46039f"
             ],
             [
              0.2222222222222222,
              "#7201a8"
             ],
             [
              0.3333333333333333,
              "#9c179e"
             ],
             [
              0.4444444444444444,
              "#bd3786"
             ],
             [
              0.5555555555555556,
              "#d8576b"
             ],
             [
              0.6666666666666666,
              "#ed7953"
             ],
             [
              0.7777777777777778,
              "#fb9f3a"
             ],
             [
              0.8888888888888888,
              "#fdca26"
             ],
             [
              1,
              "#f0f921"
             ]
            ],
            "type": "heatmap"
           }
          ],
          "heatmapgl": [
           {
            "colorbar": {
             "outlinewidth": 0,
             "ticks": ""
            },
            "colorscale": [
             [
              0,
              "#0d0887"
             ],
             [
              0.1111111111111111,
              "#46039f"
             ],
             [
              0.2222222222222222,
              "#7201a8"
             ],
             [
              0.3333333333333333,
              "#9c179e"
             ],
             [
              0.4444444444444444,
              "#bd3786"
             ],
             [
              0.5555555555555556,
              "#d8576b"
             ],
             [
              0.6666666666666666,
              "#ed7953"
             ],
             [
              0.7777777777777778,
              "#fb9f3a"
             ],
             [
              0.8888888888888888,
              "#fdca26"
             ],
             [
              1,
              "#f0f921"
             ]
            ],
            "type": "heatmapgl"
           }
          ],
          "histogram": [
           {
            "marker": {
             "pattern": {
              "fillmode": "overlay",
              "size": 10,
              "solidity": 0.2
             }
            },
            "type": "histogram"
           }
          ],
          "histogram2d": [
           {
            "colorbar": {
             "outlinewidth": 0,
             "ticks": ""
            },
            "colorscale": [
             [
              0,
              "#0d0887"
             ],
             [
              0.1111111111111111,
              "#46039f"
             ],
             [
              0.2222222222222222,
              "#7201a8"
             ],
             [
              0.3333333333333333,
              "#9c179e"
             ],
             [
              0.4444444444444444,
              "#bd3786"
             ],
             [
              0.5555555555555556,
              "#d8576b"
             ],
             [
              0.6666666666666666,
              "#ed7953"
             ],
             [
              0.7777777777777778,
              "#fb9f3a"
             ],
             [
              0.8888888888888888,
              "#fdca26"
             ],
             [
              1,
              "#f0f921"
             ]
            ],
            "type": "histogram2d"
           }
          ],
          "histogram2dcontour": [
           {
            "colorbar": {
             "outlinewidth": 0,
             "ticks": ""
            },
            "colorscale": [
             [
              0,
              "#0d0887"
             ],
             [
              0.1111111111111111,
              "#46039f"
             ],
             [
              0.2222222222222222,
              "#7201a8"
             ],
             [
              0.3333333333333333,
              "#9c179e"
             ],
             [
              0.4444444444444444,
              "#bd3786"
             ],
             [
              0.5555555555555556,
              "#d8576b"
             ],
             [
              0.6666666666666666,
              "#ed7953"
             ],
             [
              0.7777777777777778,
              "#fb9f3a"
             ],
             [
              0.8888888888888888,
              "#fdca26"
             ],
             [
              1,
              "#f0f921"
             ]
            ],
            "type": "histogram2dcontour"
           }
          ],
          "mesh3d": [
           {
            "colorbar": {
             "outlinewidth": 0,
             "ticks": ""
            },
            "type": "mesh3d"
           }
          ],
          "parcoords": [
           {
            "line": {
             "colorbar": {
              "outlinewidth": 0,
              "ticks": ""
             }
            },
            "type": "parcoords"
           }
          ],
          "pie": [
           {
            "automargin": true,
            "type": "pie"
           }
          ],
          "scatter": [
           {
            "fillpattern": {
             "fillmode": "overlay",
             "size": 10,
             "solidity": 0.2
            },
            "type": "scatter"
           }
          ],
          "scatter3d": [
           {
            "line": {
             "colorbar": {
              "outlinewidth": 0,
              "ticks": ""
             }
            },
            "marker": {
             "colorbar": {
              "outlinewidth": 0,
              "ticks": ""
             }
            },
            "type": "scatter3d"
           }
          ],
          "scattercarpet": [
           {
            "marker": {
             "colorbar": {
              "outlinewidth": 0,
              "ticks": ""
             }
            },
            "type": "scattercarpet"
           }
          ],
          "scattergeo": [
           {
            "marker": {
             "colorbar": {
              "outlinewidth": 0,
              "ticks": ""
             }
            },
            "type": "scattergeo"
           }
          ],
          "scattergl": [
           {
            "marker": {
             "colorbar": {
              "outlinewidth": 0,
              "ticks": ""
             }
            },
            "type": "scattergl"
           }
          ],
          "scattermapbox": [
           {
            "marker": {
             "colorbar": {
              "outlinewidth": 0,
              "ticks": ""
             }
            },
            "type": "scattermapbox"
           }
          ],
          "scatterpolar": [
           {
            "marker": {
             "colorbar": {
              "outlinewidth": 0,
              "ticks": ""
             }
            },
            "type": "scatterpolar"
           }
          ],
          "scatterpolargl": [
           {
            "marker": {
             "colorbar": {
              "outlinewidth": 0,
              "ticks": ""
             }
            },
            "type": "scatterpolargl"
           }
          ],
          "scatterternary": [
           {
            "marker": {
             "colorbar": {
              "outlinewidth": 0,
              "ticks": ""
             }
            },
            "type": "scatterternary"
           }
          ],
          "surface": [
           {
            "colorbar": {
             "outlinewidth": 0,
             "ticks": ""
            },
            "colorscale": [
             [
              0,
              "#0d0887"
             ],
             [
              0.1111111111111111,
              "#46039f"
             ],
             [
              0.2222222222222222,
              "#7201a8"
             ],
             [
              0.3333333333333333,
              "#9c179e"
             ],
             [
              0.4444444444444444,
              "#bd3786"
             ],
             [
              0.5555555555555556,
              "#d8576b"
             ],
             [
              0.6666666666666666,
              "#ed7953"
             ],
             [
              0.7777777777777778,
              "#fb9f3a"
             ],
             [
              0.8888888888888888,
              "#fdca26"
             ],
             [
              1,
              "#f0f921"
             ]
            ],
            "type": "surface"
           }
          ],
          "table": [
           {
            "cells": {
             "fill": {
              "color": "#EBF0F8"
             },
             "line": {
              "color": "white"
             }
            },
            "header": {
             "fill": {
              "color": "#C8D4E3"
             },
             "line": {
              "color": "white"
             }
            },
            "type": "table"
           }
          ]
         },
         "layout": {
          "annotationdefaults": {
           "arrowcolor": "#2a3f5f",
           "arrowhead": 0,
           "arrowwidth": 1
          },
          "autotypenumbers": "strict",
          "coloraxis": {
           "colorbar": {
            "outlinewidth": 0,
            "ticks": ""
           }
          },
          "colorscale": {
           "diverging": [
            [
             0,
             "#8e0152"
            ],
            [
             0.1,
             "#c51b7d"
            ],
            [
             0.2,
             "#de77ae"
            ],
            [
             0.3,
             "#f1b6da"
            ],
            [
             0.4,
             "#fde0ef"
            ],
            [
             0.5,
             "#f7f7f7"
            ],
            [
             0.6,
             "#e6f5d0"
            ],
            [
             0.7,
             "#b8e186"
            ],
            [
             0.8,
             "#7fbc41"
            ],
            [
             0.9,
             "#4d9221"
            ],
            [
             1,
             "#276419"
            ]
           ],
           "sequential": [
            [
             0,
             "#0d0887"
            ],
            [
             0.1111111111111111,
             "#46039f"
            ],
            [
             0.2222222222222222,
             "#7201a8"
            ],
            [
             0.3333333333333333,
             "#9c179e"
            ],
            [
             0.4444444444444444,
             "#bd3786"
            ],
            [
             0.5555555555555556,
             "#d8576b"
            ],
            [
             0.6666666666666666,
             "#ed7953"
            ],
            [
             0.7777777777777778,
             "#fb9f3a"
            ],
            [
             0.8888888888888888,
             "#fdca26"
            ],
            [
             1,
             "#f0f921"
            ]
           ],
           "sequentialminus": [
            [
             0,
             "#0d0887"
            ],
            [
             0.1111111111111111,
             "#46039f"
            ],
            [
             0.2222222222222222,
             "#7201a8"
            ],
            [
             0.3333333333333333,
             "#9c179e"
            ],
            [
             0.4444444444444444,
             "#bd3786"
            ],
            [
             0.5555555555555556,
             "#d8576b"
            ],
            [
             0.6666666666666666,
             "#ed7953"
            ],
            [
             0.7777777777777778,
             "#fb9f3a"
            ],
            [
             0.8888888888888888,
             "#fdca26"
            ],
            [
             1,
             "#f0f921"
            ]
           ]
          },
          "colorway": [
           "#636efa",
           "#EF553B",
           "#00cc96",
           "#ab63fa",
           "#FFA15A",
           "#19d3f3",
           "#FF6692",
           "#B6E880",
           "#FF97FF",
           "#FECB52"
          ],
          "font": {
           "color": "#2a3f5f"
          },
          "geo": {
           "bgcolor": "white",
           "lakecolor": "white",
           "landcolor": "#E5ECF6",
           "showlakes": true,
           "showland": true,
           "subunitcolor": "white"
          },
          "hoverlabel": {
           "align": "left"
          },
          "hovermode": "closest",
          "mapbox": {
           "style": "light"
          },
          "paper_bgcolor": "white",
          "plot_bgcolor": "#E5ECF6",
          "polar": {
           "angularaxis": {
            "gridcolor": "white",
            "linecolor": "white",
            "ticks": ""
           },
           "bgcolor": "#E5ECF6",
           "radialaxis": {
            "gridcolor": "white",
            "linecolor": "white",
            "ticks": ""
           }
          },
          "scene": {
           "xaxis": {
            "backgroundcolor": "#E5ECF6",
            "gridcolor": "white",
            "gridwidth": 2,
            "linecolor": "white",
            "showbackground": true,
            "ticks": "",
            "zerolinecolor": "white"
           },
           "yaxis": {
            "backgroundcolor": "#E5ECF6",
            "gridcolor": "white",
            "gridwidth": 2,
            "linecolor": "white",
            "showbackground": true,
            "ticks": "",
            "zerolinecolor": "white"
           },
           "zaxis": {
            "backgroundcolor": "#E5ECF6",
            "gridcolor": "white",
            "gridwidth": 2,
            "linecolor": "white",
            "showbackground": true,
            "ticks": "",
            "zerolinecolor": "white"
           }
          },
          "shapedefaults": {
           "line": {
            "color": "#2a3f5f"
           }
          },
          "ternary": {
           "aaxis": {
            "gridcolor": "white",
            "linecolor": "white",
            "ticks": ""
           },
           "baxis": {
            "gridcolor": "white",
            "linecolor": "white",
            "ticks": ""
           },
           "bgcolor": "#E5ECF6",
           "caxis": {
            "gridcolor": "white",
            "linecolor": "white",
            "ticks": ""
           }
          },
          "title": {
           "x": 0.05
          },
          "xaxis": {
           "automargin": true,
           "gridcolor": "white",
           "linecolor": "white",
           "ticks": "",
           "title": {
            "standoff": 15
           },
           "zerolinecolor": "white",
           "zerolinewidth": 2
          },
          "yaxis": {
           "automargin": true,
           "gridcolor": "white",
           "linecolor": "white",
           "ticks": "",
           "title": {
            "standoff": 15
           },
           "zerolinecolor": "white",
           "zerolinewidth": 2
          }
         }
        },
        "xaxis": {
         "anchor": "y",
         "domain": [
          0,
          1
         ],
         "title": {
          "text": "date"
         }
        },
        "yaxis": {
         "anchor": "x",
         "domain": [
          0,
          1
         ],
         "title": {
          "text": "value"
         }
        }
       }
      }
     },
     "metadata": {},
     "output_type": "display_data"
    }
   ],
   "source": [
    "fig1=px.scatter(date1)\n",
    "fig1.show()"
   ]
  },
  {
   "cell_type": "code",
   "execution_count": 17,
   "id": "07cdd661-f14c-42e9-80d0-0750c7562a09",
   "metadata": {},
   "outputs": [],
   "source": [
    "df = pd.read_csv('results.csv')\n",
    "df = df.dropna(axis=0)\n",
    "X=df[['home_score', 'away_score']]\n",
    "X=X.dropna(axis=0)"
   ]
  },
  {
   "cell_type": "code",
   "execution_count": 18,
   "id": "8df7236a-82eb-49ad-98d6-723f89db8cd2",
   "metadata": {},
   "outputs": [],
   "source": [
    "home = df['home_team']\n",
    "away = df['away_team']"
   ]
  },
  {
   "cell_type": "code",
   "execution_count": 19,
   "id": "f3a33bac-dedc-4c5e-86e4-207422ca2656",
   "metadata": {},
   "outputs": [
    {
     "data": {
      "text/plain": [
       "307"
      ]
     },
     "execution_count": 19,
     "metadata": {},
     "output_type": "execute_result"
    }
   ],
   "source": [
    "len(home.unique())"
   ]
  },
  {
   "cell_type": "code",
   "execution_count": 20,
   "id": "fcbc95ff-0caf-45a7-bfaf-d74e6a9c7958",
   "metadata": {},
   "outputs": [
    {
     "data": {
      "text/plain": [
       "304"
      ]
     },
     "execution_count": 20,
     "metadata": {},
     "output_type": "execute_result"
    }
   ],
   "source": [
    "len(away.unique())"
   ]
  },
  {
   "cell_type": "code",
   "execution_count": 21,
   "id": "b3aa3247-83f6-4463-bfe6-918086ec17a6",
   "metadata": {},
   "outputs": [
    {
     "name": "stdout",
     "output_type": "stream",
     "text": [
      "(126,)\n"
     ]
    }
   ],
   "source": [
    "echipe_home = home.unique()\n",
    "echipe_away = away.unique()\n",
    "print((df[\"tournament\"].unique().shape))"
   ]
  },
  {
   "cell_type": "code",
   "execution_count": 22,
   "id": "f73c2649",
   "metadata": {},
   "outputs": [
    {
     "name": "stdout",
     "output_type": "stream",
     "text": [
      "Silesia is not in echipe_home\n",
      "Niue is not in echipe_home\n",
      "Palau is not in echipe_home\n",
      "Canary Islands is not in echipe_home\n",
      "Republic of St. Pauli is not in echipe_home\n",
      "Găgăuzia is not in echipe_home\n",
      "Madrid is not in echipe_home\n"
     ]
    }
   ],
   "source": [
    "sters_home = []\n",
    "for i in echipe_home:\n",
    "    if not (i in echipe_away):\n",
    "        sters_home.append(i)\n",
    "        print (i, 'is not in echipe_home')\n",
    "            "
   ]
  },
  {
   "cell_type": "code",
   "execution_count": 23,
   "id": "dc5bf3f8",
   "metadata": {},
   "outputs": [
    {
     "name": "stdout",
     "output_type": "stream",
     "text": [
      "Asturias is not in echipe_away\n",
      "Crimea is not in echipe_away\n",
      "Two Sicilies is not in echipe_away\n",
      "Surrey is not in echipe_away\n"
     ]
    }
   ],
   "source": [
    "sters_away = []\n",
    "for i in echipe_away:\n",
    "    if not (i in echipe_home):\n",
    "        sters_away.append(i)\n",
    "        print (i, 'is not in echipe_away')\n",
    "\n",
    "for i in range(len(sters_home)):\n",
    "    df = df.drop(df[df['home_team']==sters_home[i]].index)\n",
    "\n",
    "for i in range(len(sters_away)):\n",
    "    df = df.drop(df[df['away_team']==sters_away[i]].index)"
   ]
  },
  {
   "cell_type": "code",
   "execution_count": 24,
   "id": "94aef97b",
   "metadata": {},
   "outputs": [
    {
     "name": "stdout",
     "output_type": "stream",
     "text": [
      "home 300\n"
     ]
    }
   ],
   "source": [
    "home_final = df['home_team']\n",
    "away_final= df['away_team']\n",
    "print('home',len(home_final.unique()))\n"
   ]
  },
  {
   "cell_type": "code",
   "execution_count": 25,
   "id": "37690226-cf0a-4979-9f19-72eb2212e850",
   "metadata": {},
   "outputs": [
    {
     "name": "stdout",
     "output_type": "stream",
     "text": [
      "away 299\n"
     ]
    }
   ],
   "source": [
    "print('away',len(away_final.unique()))\n"
   ]
  },
  {
   "cell_type": "code",
   "execution_count": 26,
   "id": "9738f6bd-92e9-45c5-81b9-a9ba810d1928",
   "metadata": {},
   "outputs": [],
   "source": [
    "echipe_home_final = home_final.unique()\n",
    "echipe_away_final = away_final.unique()"
   ]
  },
  {
   "cell_type": "code",
   "execution_count": 27,
   "id": "656a09b7-1f77-424a-9a87-018382e9c1c3",
   "metadata": {},
   "outputs": [
    {
     "name": "stdout",
     "output_type": "stream",
     "text": [
      "Andalusia is not in echipe_home\n"
     ]
    }
   ],
   "source": [
    "sters = []\n",
    "#numele echipelor care joaa doar o data si sunt irelevante\n",
    "for i in echipe_home_final:\n",
    "    if not (i in echipe_away_final):\n",
    "        sters.append(i)\n",
    "        print (i, 'is not in echipe_home')"
   ]
  },
  {
   "cell_type": "code",
   "execution_count": 28,
   "id": "632f6f13-3517-4be8-9753-fc44a1870652",
   "metadata": {},
   "outputs": [],
   "source": [
    "for i in range(len(sters)):\n",
    "    df = df.drop(df[df['home_team']==sters[i]].index)\n",
    "    #afisarea dupa echilibrare"
   ]
  },
  {
   "cell_type": "code",
   "execution_count": 29,
   "id": "943ccfdf-790f-4e8f-b5f3-90aef586a1c8",
   "metadata": {},
   "outputs": [
    {
     "name": "stdout",
     "output_type": "stream",
     "text": [
      "home 299\n"
     ]
    }
   ],
   "source": [
    "home_final = df['home_team']\n",
    "away_final= df['away_team']\n",
    "print('home',len(home_final.unique()))\n"
   ]
  },
  {
   "cell_type": "code",
   "execution_count": 30,
   "id": "be3bdd62-934b-4827-9468-b34c9ff36f7f",
   "metadata": {},
   "outputs": [
    {
     "name": "stdout",
     "output_type": "stream",
     "text": [
      "away 299\n"
     ]
    }
   ],
   "source": [
    "print('away',len(away_final.unique()))"
   ]
  },
  {
   "cell_type": "code",
   "execution_count": 31,
   "id": "b5741e35-78cb-4763-b7e2-421dc4cf543e",
   "metadata": {},
   "outputs": [],
   "source": [
    "echipe_home_final = home_final.unique()\n",
    "echipe_away_final = away_final.unique()"
   ]
  },
  {
   "cell_type": "code",
   "execution_count": 32,
   "id": "38514ba9",
   "metadata": {},
   "outputs": [],
   "source": [
    "df.to_csv('df_final.csv')"
   ]
  },
  {
   "cell_type": "code",
   "execution_count": 33,
   "id": "24bf62b0-7c56-43b6-acac-96fc394baa86",
   "metadata": {},
   "outputs": [],
   "source": [
    "df=pd.read_csv('df_final.csv')"
   ]
  },
  {
   "cell_type": "code",
   "execution_count": 34,
   "id": "ff6266ec",
   "metadata": {},
   "outputs": [],
   "source": [
    "X = df[['home_team', 'away_team']].astype(str)#transformarea datelor intr-un string"
   ]
  },
  {
   "cell_type": "code",
   "execution_count": 35,
   "id": "c096ed46-16a4-4868-a30b-da0ed6f97dd3",
   "metadata": {},
   "outputs": [],
   "source": [
    "# one hot encode input variables\n",
    "onehot_encoder = OneHotEncoder(sparse=False)\n",
    "X = onehot_encoder.fit_transform(X)"
   ]
  },
  {
   "cell_type": "code",
   "execution_count": 36,
   "id": "6e682aaf-c76b-4769-97aa-dc2d1a606f00",
   "metadata": {},
   "outputs": [],
   "source": [
    "Y=[]\n",
    "A = df['home_score']\n",
    "B = df['away_score']\n",
    "for i in range(len(A)):\n",
    "    if A[i]<B[i]:\n",
    "        Y.append(-1)\n",
    "    elif A[i]>B[i]:\n",
    "        Y.append(1)\n",
    "    else:\n",
    "        Y.append(0)"
   ]
  },
  {
   "cell_type": "code",
   "execution_count": 37,
   "id": "f264f842",
   "metadata": {},
   "outputs": [
    {
     "name": "stdout",
     "output_type": "stream",
     "text": [
      "[1 2 2 ... 2 1 0]\n"
     ]
    }
   ],
   "source": [
    "label_encoder = LabelEncoder()\n",
    "Y = label_encoder.fit_transform(Y)\n",
    "print(Y)"
   ]
  },
  {
   "cell_type": "code",
   "execution_count": 38,
   "id": "e35ce5c1-b98d-44f7-96cb-4ccfd1f74e8b",
   "metadata": {},
   "outputs": [
    {
     "data": {
      "text/plain": [
       "(43034,)"
      ]
     },
     "execution_count": 38,
     "metadata": {},
     "output_type": "execute_result"
    }
   ],
   "source": [
    "Y.shape"
   ]
  },
  {
   "cell_type": "code",
   "execution_count": 39,
   "id": "fc1a86c6",
   "metadata": {},
   "outputs": [
    {
     "name": "stdout",
     "output_type": "stream",
     "text": [
      "Input (43034, 598)\n",
      "[[0. 0. 0. ... 0. 0. 0.]\n",
      " [0. 0. 0. ... 0. 0. 0.]\n",
      " [0. 0. 0. ... 0. 0. 0.]\n",
      " ...\n",
      " [0. 0. 0. ... 0. 0. 0.]\n",
      " [0. 0. 0. ... 0. 0. 0.]\n",
      " [0. 0. 0. ... 0. 0. 0.]]\n"
     ]
    }
   ],
   "source": [
    "print('Input', X.shape)\n",
    "print(X)"
   ]
  },
  {
   "cell_type": "code",
   "execution_count": 40,
   "id": "b939d5d6-183b-4cc1-b977-e7f2b95a3d9a",
   "metadata": {},
   "outputs": [
    {
     "data": {
      "text/plain": [
       "(43034, 598)"
      ]
     },
     "execution_count": 40,
     "metadata": {},
     "output_type": "execute_result"
    }
   ],
   "source": [
    "X.shape"
   ]
  },
  {
   "cell_type": "code",
   "execution_count": 41,
   "id": "a3a5f420-40b0-4fdf-8a57-27795ad31d45",
   "metadata": {},
   "outputs": [
    {
     "data": {
      "text/plain": [
       "(43034,)"
      ]
     },
     "execution_count": 41,
     "metadata": {},
     "output_type": "execute_result"
    }
   ],
   "source": [
    "Y.shape"
   ]
  },
  {
   "cell_type": "code",
   "execution_count": 42,
   "id": "e41b4a2b-deec-459d-a8ce-993c7a98db30",
   "metadata": {},
   "outputs": [
    {
     "name": "stderr",
     "output_type": "stream",
     "text": [
      "/Users/costel/opt/miniconda3/envs/tensorflow/lib/python3.9/site-packages/sklearn/linear_model/_logistic.py:444: ConvergenceWarning:\n",
      "\n",
      "lbfgs failed to converge (status=1):\n",
      "STOP: TOTAL NO. of ITERATIONS REACHED LIMIT.\n",
      "\n",
      "Increase the number of iterations (max_iter) or scale the data as shown in:\n",
      "    https://scikit-learn.org/stable/modules/preprocessing.html\n",
      "Please also refer to the documentation for alternative solver options:\n",
      "    https://scikit-learn.org/stable/modules/linear_model.html#logistic-regression\n",
      "\n"
     ]
    }
   ],
   "source": [
    "\n",
    "reg = LogisticRegression().fit(X, Y)\n",
    "\n"
   ]
  },
  {
   "cell_type": "code",
   "execution_count": 43,
   "id": "c7ecba7a-f282-4b7c-bd3d-4d5d9a492ac7",
   "metadata": {},
   "outputs": [],
   "source": [
    "rf = RandomForestClassifier().fit(X, Y)\n",
    "#Random Forrest este o multime de arbori de decizie "
   ]
  },
  {
   "cell_type": "code",
   "execution_count": 44,
   "id": "133c746b-16d9-45b4-9c8c-95b1300d8f12",
   "metadata": {},
   "outputs": [],
   "source": [
    "svc = LinearSVC(dual=False).fit(X, Y)\n"
   ]
  },
  {
   "cell_type": "code",
   "execution_count": 45,
   "id": "a18b7044-1a2a-4215-89b2-99159739688c",
   "metadata": {},
   "outputs": [],
   "source": [
    "dtr = DecisionTreeClassifier().fit(X, Y)\n"
   ]
  },
  {
   "cell_type": "code",
   "execution_count": 46,
   "id": "1f7e5bfa-1cb4-4f05-9b32-8c7a96b99713",
   "metadata": {},
   "outputs": [
    {
     "name": "stderr",
     "output_type": "stream",
     "text": [
      "/Users/costel/opt/miniconda3/envs/tensorflow/lib/python3.9/site-packages/sklearn/neural_network/_multilayer_perceptron.py:702: ConvergenceWarning:\n",
      "\n",
      "Stochastic Optimizer: Maximum iterations (200) reached and the optimization hasn't converged yet.\n",
      "\n"
     ]
    }
   ],
   "source": [
    "mlp = MLPClassifier().fit(X, Y)\n"
   ]
  },
  {
   "cell_type": "code",
   "execution_count": 47,
   "id": "9af167c7-6e65-4135-99a1-0baae3617f7a",
   "metadata": {},
   "outputs": [],
   "source": [
    "KNN = KNeighborsClassifier().fit(X, Y)"
   ]
  },
  {
   "cell_type": "code",
   "execution_count": 48,
   "id": "1b3b6e34-1f48-492d-9835-f3187b1ec233",
   "metadata": {},
   "outputs": [
    {
     "name": "stdout",
     "output_type": "stream",
     "text": [
      "Logistic Regression Score:  0.583863921550402\n",
      "Random Forest Score:  0.672909792257285\n",
      "LinearSVC:  0.5851419807593995\n",
      "DecisionTreeClassifier:  0.672909792257285\n",
      "MLPClassifier:  0.6690756146302923\n",
      "KNeighborsClassifier:  0.5843054329135102\n"
     ]
    }
   ],
   "source": [
    "print('Logistic Regression Score: ',reg.score(X, Y))\n",
    "print('Random Forest Score: ',rf.score(X, Y))\n",
    "print('LinearSVC: ',svc.score(X, Y))\n",
    "print('DecisionTreeClassifier: ',dtr.score(X, Y))\n",
    "print('MLPClassifier: ',mlp.score(X, Y))\n",
    "print('KNeighborsClassifier: ',KNN.score(X, Y))"
   ]
  },
  {
   "cell_type": "code",
   "execution_count": 49,
   "id": "e345085c-9b54-408f-8710-ccf86add4558",
   "metadata": {},
   "outputs": [],
   "source": [
    "kfold = model_selection.KFold(n_splits=10, random_state=7, shuffle=True)\n",
    "scoring = 'accuracy'"
   ]
  },
  {
   "cell_type": "code",
   "execution_count": 50,
   "id": "6415ee19-f8ac-483c-a267-fe7f99917f97",
   "metadata": {},
   "outputs": [
    {
     "name": "stdout",
     "output_type": "stream",
     "text": [
      "(12911, 598)\n"
     ]
    }
   ],
   "source": [
    " #Împărțiți matrice sau matrice în tren aleatoriu și subseturi de testare.\n",
    "x_train, x_test, y_train, y_test = train_test_split(X,Y, test_size = 0.3)\n",
    "x_train\n",
    "y_train\n",
    "print(x_test.shape)"
   ]
  },
  {
   "cell_type": "code",
   "execution_count": 51,
   "id": "cca24705-6daf-4aa6-be5c-454edf5c0aa2",
   "metadata": {},
   "outputs": [
    {
     "name": "stdout",
     "output_type": "stream",
     "text": [
      "(30123, 598)\n"
     ]
    }
   ],
   "source": [
    "print(x_train.shape)"
   ]
  },
  {
   "cell_type": "code",
   "execution_count": 52,
   "id": "0f252364-ed33-49ae-baaa-244f7af5fac1",
   "metadata": {},
   "outputs": [
    {
     "name": "stdout",
     "output_type": "stream",
     "text": [
      "(12911,)\n"
     ]
    }
   ],
   "source": [
    "print(y_test.shape)"
   ]
  },
  {
   "cell_type": "code",
   "execution_count": 53,
   "id": "c4c98079-536e-4edd-98dd-c276624ef37d",
   "metadata": {},
   "outputs": [
    {
     "name": "stdout",
     "output_type": "stream",
     "text": [
      "(30123,)\n"
     ]
    }
   ],
   "source": [
    "print(y_train.shape)"
   ]
  },
  {
   "cell_type": "code",
   "execution_count": 54,
   "id": "7b0ea2fe-608f-4ed3-86ef-e172a637ad67",
   "metadata": {},
   "outputs": [],
   "source": [
    "kfold = model_selection.KFold(n_splits=10, random_state=7, shuffle=True)\n",
    "model = LogisticRegression(solver='liblinear')\n",
    "scoring = 'accuracy'"
   ]
  },
  {
   "cell_type": "code",
   "execution_count": 55,
   "id": "66d59921-e66d-4b26-87fd-244085077cc4",
   "metadata": {},
   "outputs": [
    {
     "name": "stdout",
     "output_type": "stream",
     "text": [
      "Accuracy: 0.572 (0.007)\n"
     ]
    }
   ],
   "source": [
    " #Classification Accuracy\n",
    "#Acuratețea clasificării este numărul de predicții corecte făcute ca raport dintre toate predicțiile făcute.\n",
    "results = model_selection.cross_val_score(model, X, Y, cv=kfold, scoring=scoring)\n",
    "print(\"Accuracy: %.3f (%.3f)\" % (results.mean(), results.std())) "
   ]
  },
  {
   "cell_type": "code",
   "execution_count": 56,
   "id": "df0ba97e-fa13-4c34-8be4-ced12d5cd64e",
   "metadata": {},
   "outputs": [
    {
     "name": "stdout",
     "output_type": "stream",
     "text": [
      "Accuracy: 0.513 (0.008)\n"
     ]
    }
   ],
   "source": [
    "kfold = model_selection.KFold(n_splits=10, random_state=7, shuffle=True)\n",
    "model = DecisionTreeClassifier()\n",
    "scoring = 'accuracy'\n",
    "results = model_selection.cross_val_score(model, X, Y, cv=kfold, scoring=scoring)\n",
    "print(\"Accuracy: %.3f (%.3f)\" % (results.mean(), results.std())) "
   ]
  },
  {
   "cell_type": "code",
   "execution_count": 57,
   "id": "aa29e227-4804-4ab5-aa61-0d72132a72f8",
   "metadata": {},
   "outputs": [
    {
     "name": "stdout",
     "output_type": "stream",
     "text": [
      "Accuracy: 0.524 (0.009)\n"
     ]
    }
   ],
   "source": [
    "kfold = model_selection.KFold(n_splits=10, random_state=7, shuffle=True)\n",
    "model = RandomForestClassifier()\n",
    "scoring = 'accuracy'\n",
    "results = model_selection.cross_val_score(model, X, Y, cv=kfold, scoring=scoring)\n",
    "print(\"Accuracy: %.3f (%.3f)\" % (results.mean(), results.std())) "
   ]
  },
  {
   "cell_type": "code",
   "execution_count": 58,
   "id": "061ea84c-8c6a-4b22-b2cf-6b873009e53b",
   "metadata": {},
   "outputs": [
    {
     "name": "stdout",
     "output_type": "stream",
     "text": [
      "Accuracy: 0.575 (0.006)\n"
     ]
    }
   ],
   "source": [
    "kfold = model_selection.KFold(n_splits=10, random_state=7, shuffle=True)\n",
    "model = LinearSVC()\n",
    "scoring = 'accuracy'\n",
    "results = model_selection.cross_val_score(model, X, Y, cv=kfold, scoring=scoring)\n",
    "print(\"Accuracy: %.3f (%.3f)\" % (results.mean(), results.std())) \n"
   ]
  },
  {
   "cell_type": "code",
   "execution_count": 59,
   "id": "26608bcd-2aeb-4d4b-8bb3-0ee152b80650",
   "metadata": {},
   "outputs": [
    {
     "name": "stdout",
     "output_type": "stream",
     "text": [
      "Accuracy: 0.472 (0.005)\n"
     ]
    }
   ],
   "source": [
    "kfold = model_selection.KFold(n_splits=10, random_state=7, shuffle=True)\n",
    "model = KNeighborsClassifier()\n",
    "scoring = 'accuracy'\n",
    "results = model_selection.cross_val_score(model, X, Y, cv=kfold, scoring=scoring)\n",
    "print(\"Accuracy: %.3f (%.3f)\" % (results.mean(), results.std())) "
   ]
  },
  {
   "cell_type": "code",
   "execution_count": 60,
   "id": "54fd19e5-4a14-4ffe-9c02-c17dfd844e56",
   "metadata": {},
   "outputs": [
    {
     "name": "stderr",
     "output_type": "stream",
     "text": [
      "/Users/costel/opt/miniconda3/envs/tensorflow/lib/python3.9/site-packages/sklearn/neural_network/_multilayer_perceptron.py:702: ConvergenceWarning:\n",
      "\n",
      "Stochastic Optimizer: Maximum iterations (200) reached and the optimization hasn't converged yet.\n",
      "\n",
      "/Users/costel/opt/miniconda3/envs/tensorflow/lib/python3.9/site-packages/sklearn/neural_network/_multilayer_perceptron.py:702: ConvergenceWarning:\n",
      "\n",
      "Stochastic Optimizer: Maximum iterations (200) reached and the optimization hasn't converged yet.\n",
      "\n",
      "/Users/costel/opt/miniconda3/envs/tensorflow/lib/python3.9/site-packages/sklearn/neural_network/_multilayer_perceptron.py:702: ConvergenceWarning:\n",
      "\n",
      "Stochastic Optimizer: Maximum iterations (200) reached and the optimization hasn't converged yet.\n",
      "\n",
      "/Users/costel/opt/miniconda3/envs/tensorflow/lib/python3.9/site-packages/sklearn/neural_network/_multilayer_perceptron.py:702: ConvergenceWarning:\n",
      "\n",
      "Stochastic Optimizer: Maximum iterations (200) reached and the optimization hasn't converged yet.\n",
      "\n",
      "/Users/costel/opt/miniconda3/envs/tensorflow/lib/python3.9/site-packages/sklearn/neural_network/_multilayer_perceptron.py:702: ConvergenceWarning:\n",
      "\n",
      "Stochastic Optimizer: Maximum iterations (200) reached and the optimization hasn't converged yet.\n",
      "\n",
      "/Users/costel/opt/miniconda3/envs/tensorflow/lib/python3.9/site-packages/sklearn/neural_network/_multilayer_perceptron.py:702: ConvergenceWarning:\n",
      "\n",
      "Stochastic Optimizer: Maximum iterations (200) reached and the optimization hasn't converged yet.\n",
      "\n",
      "/Users/costel/opt/miniconda3/envs/tensorflow/lib/python3.9/site-packages/sklearn/neural_network/_multilayer_perceptron.py:702: ConvergenceWarning:\n",
      "\n",
      "Stochastic Optimizer: Maximum iterations (200) reached and the optimization hasn't converged yet.\n",
      "\n",
      "/Users/costel/opt/miniconda3/envs/tensorflow/lib/python3.9/site-packages/sklearn/neural_network/_multilayer_perceptron.py:702: ConvergenceWarning:\n",
      "\n",
      "Stochastic Optimizer: Maximum iterations (200) reached and the optimization hasn't converged yet.\n",
      "\n"
     ]
    },
    {
     "name": "stdout",
     "output_type": "stream",
     "text": [
      "Accuracy: 0.524 (0.008)\n"
     ]
    },
    {
     "name": "stderr",
     "output_type": "stream",
     "text": [
      "/Users/costel/opt/miniconda3/envs/tensorflow/lib/python3.9/site-packages/sklearn/neural_network/_multilayer_perceptron.py:702: ConvergenceWarning:\n",
      "\n",
      "Stochastic Optimizer: Maximum iterations (200) reached and the optimization hasn't converged yet.\n",
      "\n"
     ]
    }
   ],
   "source": [
    "kfold = model_selection.KFold(n_splits=10, random_state=7, shuffle=True)\n",
    "model = MLPClassifier()\n",
    "scoring = 'accuracy'\n",
    "results = model_selection.cross_val_score(model, X, Y, cv=kfold, scoring=scoring)\n",
    "print(\"Accuracy: %.3f (%.3f)\" % (results.mean(), results.std()))"
   ]
  },
  {
   "cell_type": "code",
   "execution_count": 61,
   "id": "05e0f66c-1785-4ba6-9125-cc14df31bc26",
   "metadata": {},
   "outputs": [
    {
     "name": "stdout",
     "output_type": "stream",
     "text": [
      "Matricea de confuzie Logistic Regression:\n",
      "[[1554  105 1327]\n",
      " [ 713   98 1681]\n",
      " [ 646   99 4536]]\n"
     ]
    }
   ],
   "source": [
    " #confusion matrix Logistic\n",
    "from sklearn.metrics import plot_confusion_matrix\n",
    "X_train, X_test, Y_train, Y_test = model_selection.train_test_split(X, Y,random_state=7)\n",
    "model = LogisticRegression(solver='liblinear')\n",
    "model.fit(X_train, Y_train)\n",
    "predicted = model.predict(X_test)\n",
    "matrix = confusion_matrix(Y_test, predicted)\n",
    "print(\"Matricea de confuzie Logistic Regression:\")\n",
    "print(matrix)\n"
   ]
  },
  {
   "cell_type": "code",
   "execution_count": 62,
   "id": "ed5f1a2e-629d-4722-882b-76a68f08f996",
   "metadata": {},
   "outputs": [
    {
     "name": "stdout",
     "output_type": "stream",
     "text": [
      "Matricea de confuzie Random Forrrest:\n",
      "[[1347  471 1168]\n",
      " [ 719  419 1354]\n",
      " [ 810  641 3830]]\n"
     ]
    }
   ],
   "source": [
    " #conf Random\n",
    "X_train, X_test, Y_train, Y_test = model_selection.train_test_split(X, Y,random_state=7)\n",
    "model = RandomForestClassifier()\n",
    "model.fit(X_train, Y_train)\n",
    "predicted = model.predict(X_test)\n",
    "matrix = confusion_matrix(Y_test, predicted)\n",
    "print(\"Matricea de confuzie Random Forrrest:\")\n",
    "print(matrix)"
   ]
  },
  {
   "cell_type": "code",
   "execution_count": 63,
   "id": "18d4399b-0d28-45ee-a748-a6a5bd14ae35",
   "metadata": {},
   "outputs": [
    {
     "name": "stdout",
     "output_type": "stream",
     "text": [
      "Matricea de confuzie Linar SVC:\n",
      "[[1631   84 1271]\n",
      " [ 751   80 1661]\n",
      " [ 684   72 4525]]\n"
     ]
    }
   ],
   "source": [
    "#conf Linear svc\n",
    "X_train, X_test, Y_train, Y_test = model_selection.train_test_split(X, Y,random_state=7)\n",
    "model = LinearSVC()\n",
    "model.fit(X_train, Y_train)\n",
    "predicted = model.predict(X_test)\n",
    "matrix = confusion_matrix(Y_test, predicted)\n",
    "print(\"Matricea de confuzie Linar SVC:\")\n",
    "print(matrix)"
   ]
  },
  {
   "cell_type": "code",
   "execution_count": 64,
   "id": "43e5d754-96ce-4156-8252-6a7a16d5478d",
   "metadata": {},
   "outputs": [
    {
     "name": "stdout",
     "output_type": "stream",
     "text": [
      "Matricea de confuzie KNeighbors:\n",
      "[[1485  617  884]\n",
      " [ 938  540 1014]\n",
      " [1300 1015 2966]]\n"
     ]
    }
   ],
   "source": [
    "X_train, X_test, Y_train, Y_test = model_selection.train_test_split(X, Y,random_state=7)\n",
    "model = KNeighborsClassifier()\n",
    "model.fit(X_train, Y_train)\n",
    "predicted = model.predict(X_test)\n",
    "matrix = confusion_matrix(Y_test, predicted)\n",
    "print(\"Matricea de confuzie KNeighbors:\")\n",
    "print(matrix)"
   ]
  },
  {
   "cell_type": "code",
   "execution_count": 65,
   "id": "0c58a6a7-5146-4df0-a7ed-d72773d7d5ec",
   "metadata": {},
   "outputs": [
    {
     "name": "stdout",
     "output_type": "stream",
     "text": [
      "Matricea de confuzie Desition Tree:\n",
      "[[1543  474  969]\n",
      " [ 880  453 1159]\n",
      " [1065  768 3448]]\n"
     ]
    }
   ],
   "source": [
    "X_train, X_test, Y_train, Y_test = model_selection.train_test_split(X, Y,random_state=7)\n",
    "model = DecisionTreeClassifier()\n",
    "model.fit(X_train, Y_train)\n",
    "predicted = model.predict(X_test)\n",
    "matrix = confusion_matrix(Y_test, predicted)\n",
    "print(\"Matricea de confuzie Desition Tree:\")\n",
    "print(matrix)"
   ]
  },
  {
   "cell_type": "code",
   "execution_count": 66,
   "id": "6fec44c0-fb7c-4927-a024-ca02ea39620a",
   "metadata": {},
   "outputs": [
    {
     "name": "stdout",
     "output_type": "stream",
     "text": [
      "Matricea de confuzie MLPC:\n",
      "[[1274  613 1099]\n",
      " [ 635  503 1354]\n",
      " [ 740  787 3754]]\n"
     ]
    },
    {
     "name": "stderr",
     "output_type": "stream",
     "text": [
      "/Users/costel/opt/miniconda3/envs/tensorflow/lib/python3.9/site-packages/sklearn/neural_network/_multilayer_perceptron.py:702: ConvergenceWarning:\n",
      "\n",
      "Stochastic Optimizer: Maximum iterations (200) reached and the optimization hasn't converged yet.\n",
      "\n"
     ]
    }
   ],
   "source": [
    "X_train, X_test, Y_train, Y_test = model_selection.train_test_split(X, Y,random_state=7)\n",
    "model = MLPClassifier()\n",
    "model.fit(X_train, Y_train)\n",
    "predicted = model.predict(X_test)\n",
    "matrix = confusion_matrix(Y_test, predicted)\n",
    "print(\"Matricea de confuzie MLPC:\")\n",
    "print(matrix)"
   ]
  },
  {
   "cell_type": "code",
   "execution_count": 67,
   "id": "9e8ace6a-c088-4317-b6d0-00cb9cbc7c32",
   "metadata": {},
   "outputs": [
    {
     "name": "stdout",
     "output_type": "stream",
     "text": [
      "Raport: Logistic Regression\n",
      "              precision    recall  f1-score   support\n",
      "\n",
      "           0       0.53      0.52      0.53      2986\n",
      "           1       0.32      0.04      0.07      2492\n",
      "           2       0.60      0.86      0.71      5281\n",
      "\n",
      "    accuracy                           0.58     10759\n",
      "   macro avg       0.49      0.47      0.43     10759\n",
      "weighted avg       0.52      0.58      0.51     10759\n",
      "\n"
     ]
    }
   ],
   "source": [
    "#Classification Report\n",
    "    #acuratetea randamentul dat de algoritm în urma procesării datelor\n",
    "    #Precizia măsoară procentajul modelului care a fost corect clasificat\n",
    "    #Remiterea este o metrică care cuantifică numărul de predicții pozitive corecte făcute \n",
    "    # din toate predicțiile pozitive care ar fi putut fi făcute\n",
    "    #F1 este o măsură a precizie a clasificării  unui model pe un set de date\n",
    "#Rezultat per eticheta\n",
    "\n",
    "\n",
    "print(\"Raport: Logistic Regression\")\n",
    "X_train, X_test, Y_train, Y_test = model_selection.train_test_split(X, Y,random_state=7)\n",
    "model = LogisticRegression(solver='liblinear')\n",
    "model.fit(X_train, Y_train)\n",
    "predicted = model.predict(X_test)\n",
    "report = classification_report(Y_test, predicted)\n",
    "print(report)"
   ]
  },
  {
   "cell_type": "code",
   "execution_count": 68,
   "id": "64ee23d3-b6cb-46d9-8254-93c02fc1e06b",
   "metadata": {},
   "outputs": [
    {
     "name": "stdout",
     "output_type": "stream",
     "text": [
      "Raport: Random Forrest\n",
      "              precision    recall  f1-score   support\n",
      "\n",
      "           0       0.47      0.45      0.46      2986\n",
      "           1       0.27      0.17      0.21      2492\n",
      "           2       0.60      0.72      0.66      5281\n",
      "\n",
      "    accuracy                           0.52     10759\n",
      "   macro avg       0.45      0.45      0.44     10759\n",
      "weighted avg       0.49      0.52      0.50     10759\n",
      "\n"
     ]
    }
   ],
   "source": [
    "X_train, X_test, Y_train, Y_test = model_selection.train_test_split(X, Y,random_state=7)\n",
    "model = RandomForestClassifier()\n",
    "model.fit(X_train, Y_train)\n",
    "predicted = model.predict(X_test)\n",
    "report = classification_report(Y_test, predicted)\n",
    "print(\"Raport: Random Forrest\")\n",
    "print(report)"
   ]
  },
  {
   "cell_type": "code",
   "execution_count": 69,
   "id": "ec2caf10-8d6f-4914-9fb7-bd6eb412dd7f",
   "metadata": {},
   "outputs": [
    {
     "name": "stdout",
     "output_type": "stream",
     "text": [
      "Raport: Desition Tree\n",
      "              precision    recall  f1-score   support\n",
      "\n",
      "           0       0.44      0.52      0.48      2986\n",
      "           1       0.27      0.18      0.22      2492\n",
      "           2       0.62      0.65      0.64      5281\n",
      "\n",
      "    accuracy                           0.51     10759\n",
      "   macro avg       0.44      0.45      0.44     10759\n",
      "weighted avg       0.49      0.51      0.49     10759\n",
      "\n"
     ]
    }
   ],
   "source": [
    "#Desition tree\n",
    "X_train, X_test, Y_train, Y_test = model_selection.train_test_split(X, Y,random_state=7)\n",
    "model = DecisionTreeClassifier()\n",
    "model.fit(X_train, Y_train)\n",
    "predicted = model.predict(X_test)\n",
    "report = classification_report(Y_test, predicted)\n",
    "print(\"Raport: Desition Tree\")\n",
    "print(report)"
   ]
  },
  {
   "cell_type": "code",
   "execution_count": 70,
   "id": "ff85cb9e-6a56-4a3d-aafd-bccebe3d2124",
   "metadata": {},
   "outputs": [
    {
     "name": "stdout",
     "output_type": "stream",
     "text": [
      "Raport: MLPC\n",
      "              precision    recall  f1-score   support\n",
      "\n",
      "           0       0.47      0.48      0.47      2986\n",
      "           1       0.26      0.16      0.19      2492\n",
      "           2       0.61      0.71      0.65      5281\n",
      "\n",
      "    accuracy                           0.52     10759\n",
      "   macro avg       0.44      0.45      0.44     10759\n",
      "weighted avg       0.49      0.52      0.50     10759\n",
      "\n"
     ]
    },
    {
     "name": "stderr",
     "output_type": "stream",
     "text": [
      "/Users/costel/opt/miniconda3/envs/tensorflow/lib/python3.9/site-packages/sklearn/neural_network/_multilayer_perceptron.py:702: ConvergenceWarning:\n",
      "\n",
      "Stochastic Optimizer: Maximum iterations (200) reached and the optimization hasn't converged yet.\n",
      "\n"
     ]
    }
   ],
   "source": [
    "#    mlp = MLPClassifier().fit(X, Y)\n",
    "X_train, X_test, Y_train, Y_test = model_selection.train_test_split(X, Y,random_state=7)\n",
    "model = MLPClassifier()\n",
    "model.fit(X_train, Y_train)\n",
    "predicted = model.predict(X_test)\n",
    "report = classification_report(Y_test, predicted)\n",
    "print(\"Raport: MLPC\")\n",
    "print(report)"
   ]
  },
  {
   "cell_type": "code",
   "execution_count": 71,
   "id": "df9963c2-8cc3-424f-ad52-1f6abbfb8f9c",
   "metadata": {},
   "outputs": [
    {
     "name": "stdout",
     "output_type": "stream",
     "text": [
      "Raport KNeighbours:\n",
      "              precision    recall  f1-score   support\n",
      "\n",
      "           0       0.40      0.50      0.44      2986\n",
      "           1       0.25      0.22      0.23      2492\n",
      "           2       0.61      0.56      0.58      5281\n",
      "\n",
      "    accuracy                           0.46     10759\n",
      "   macro avg       0.42      0.43      0.42     10759\n",
      "weighted avg       0.47      0.46      0.46     10759\n",
      "\n"
     ]
    }
   ],
   "source": [
    "#Kneighbours\n",
    "X_train, X_test, Y_train, Y_test = model_selection.train_test_split(X, Y,random_state=7)\n",
    "model = KNeighborsClassifier()\n",
    "model.fit(X_train, Y_train)\n",
    "predicted = model.predict(X_test)\n",
    "report = classification_report(Y_test, predicted)\n",
    "print(\"Raport KNeighbours:\")\n",
    "print(report)"
   ]
  },
  {
   "cell_type": "code",
   "execution_count": 72,
   "id": "967f9064-e72a-4fd9-b9f4-191d519a5a8c",
   "metadata": {},
   "outputs": [
    {
     "name": "stdout",
     "output_type": "stream",
     "text": [
      "Raport LIniars:\n",
      "              precision    recall  f1-score   support\n",
      "\n",
      "           0       0.53      0.55      0.54      2986\n",
      "           1       0.34      0.03      0.06      2492\n",
      "           2       0.61      0.86      0.71      5281\n",
      "\n",
      "    accuracy                           0.58     10759\n",
      "   macro avg       0.49      0.48      0.44     10759\n",
      "weighted avg       0.52      0.58      0.51     10759\n",
      "\n"
     ]
    }
   ],
   "source": [
    "X_train, X_test, Y_train, Y_test = model_selection.train_test_split(X, Y,random_state=7)\n",
    "model = LinearSVC()\n",
    "model.fit(X_train, Y_train)\n",
    "predicted = model.predict(X_test)\n",
    "report = classification_report(Y_test, predicted)\n",
    "print(\"Raport LIniars:\")\n",
    "print(report)\n",
    "y_pred = model.predict(X_test)"
   ]
  },
  {
   "cell_type": "code",
   "execution_count": 73,
   "id": "af1ebf7e-70be-489e-a002-5efc21362fb9",
   "metadata": {},
   "outputs": [
    {
     "name": "stdout",
     "output_type": "stream",
     "text": [
      "Pana la\n",
      "Precision score 0.49258630406968873\n",
      "Recall score 0.47838789877502563\n",
      "F1-score score 0.4360396671625148\n",
      "Accuracy score 0.5796077702388698\n"
     ]
    }
   ],
   "source": [
    "print(\"Pana la\")\n",
    "print('Precision score %s' % precision_score(Y_test, y_pred, average='macro'))\n",
    "print('Recall score %s' % recall_score(Y_test, y_pred, average='macro'))\n",
    "print('F1-score score %s' % f1_score(Y_test, y_pred, average='macro'))\n",
    "print('Accuracy score %s' % accuracy_score(Y_test, y_pred))"
   ]
  },
  {
   "cell_type": "code",
   "execution_count": 74,
   "id": "d6cffde6-a3c0-44a8-87cb-42fe4004d3c1",
   "metadata": {},
   "outputs": [],
   "source": [
    "X_train, X_test, y_train, y_test = train_test_split(X, Y, test_size=0.3, random_state=100)"
   ]
  },
  {
   "cell_type": "code",
   "execution_count": 75,
   "id": "68b77229-cec1-4a68-bd68-e8709ba9cff5",
   "metadata": {},
   "outputs": [],
   "source": [
    "\n",
    "#f-tia de testat si generare raport ,algoritmi\n",
    "def build_and_test(X_tr, X_te, y_tr, y_te, model):\n",
    "        model.fit(X_tr, y_tr)\n",
    "        # Test the model\n",
    "        y_pred = model.predict(X_te)\n",
    "        print('Precision score %s' % precision_score(y_te, y_pred, average='macro'))\n",
    "        print('Recall score %s' % recall_score(y_te, y_pred, average='macro'))\n",
    "        print('F1-score score %s' % f1_score(y_te, y_pred, average='macro'))\n",
    "        print('Accuracy score %s' % accuracy_score(y_te, y_pred))\n",
    "\n",
    "        # Print a classification report\n",
    "        print(classification_report(y_te,y_pred))\n",
    "        # return roc_auc0,fpr0,tpr0, best_threshold"
   ]
  },
  {
   "cell_type": "code",
   "execution_count": 76,
   "id": "0eee1ff7-05e4-40d3-a0fd-0c58eac5fe5f",
   "metadata": {
    "tags": []
   },
   "outputs": [
    {
     "name": "stdout",
     "output_type": "stream",
     "text": [
      "K.N.\n",
      "Precision score 0.4208084211777807\n",
      "Recall score 0.4279437245845181\n",
      "F1-score score 0.42125563921223247\n",
      "Accuracy score 0.4730075129734335\n",
      "              precision    recall  f1-score   support\n",
      "\n",
      "           0       0.41      0.50      0.45      3596\n",
      "           1       0.26      0.19      0.22      3040\n",
      "           2       0.59      0.60      0.59      6275\n",
      "\n",
      "    accuracy                           0.47     12911\n",
      "   macro avg       0.42      0.43      0.42     12911\n",
      "weighted avg       0.46      0.47      0.47     12911\n",
      "\n"
     ]
    }
   ],
   "source": [
    "print(\"K.N.\")\n",
    "build_and_test(X_train, X_test, y_train, y_test, KNeighborsClassifier())"
   ]
  },
  {
   "cell_type": "code",
   "execution_count": 77,
   "id": "47ac6a69-f6e1-49f4-bb59-5b3df107059d",
   "metadata": {},
   "outputs": [
    {
     "name": "stdout",
     "output_type": "stream",
     "text": [
      "LR\n",
      "Precision score 0.472783230686157\n",
      "Recall score 0.46677641491874544\n",
      "F1-score score 0.43004144640838743\n",
      "Accuracy score 0.5633955541786074\n",
      "              precision    recall  f1-score   support\n",
      "\n",
      "           0       0.52      0.51      0.52      3596\n",
      "           1       0.30      0.04      0.08      3040\n",
      "           2       0.59      0.84      0.70      6275\n",
      "\n",
      "    accuracy                           0.56     12911\n",
      "   macro avg       0.47      0.47      0.43     12911\n",
      "weighted avg       0.50      0.56      0.50     12911\n",
      "\n"
     ]
    },
    {
     "name": "stderr",
     "output_type": "stream",
     "text": [
      "/Users/costel/opt/miniconda3/envs/tensorflow/lib/python3.9/site-packages/sklearn/linear_model/_logistic.py:444: ConvergenceWarning:\n",
      "\n",
      "lbfgs failed to converge (status=1):\n",
      "STOP: TOTAL NO. of ITERATIONS REACHED LIMIT.\n",
      "\n",
      "Increase the number of iterations (max_iter) or scale the data as shown in:\n",
      "    https://scikit-learn.org/stable/modules/preprocessing.html\n",
      "Please also refer to the documentation for alternative solver options:\n",
      "    https://scikit-learn.org/stable/modules/linear_model.html#logistic-regression\n",
      "\n"
     ]
    }
   ],
   "source": [
    "print(\"LR\")\n",
    "build_and_test(X_train, X_test, y_train, y_test, LogisticRegression())"
   ]
  },
  {
   "cell_type": "code",
   "execution_count": 78,
   "id": "1b0792f6-bb67-42a2-be24-93f0babc2d67",
   "metadata": {},
   "outputs": [
    {
     "name": "stdout",
     "output_type": "stream",
     "text": [
      "Random F\n",
      "Precision score 0.4527448893112053\n",
      "Recall score 0.4503024689680674\n",
      "F1-score score 0.44403403340668257\n",
      "Accuracy score 0.5212609402834792\n",
      "              precision    recall  f1-score   support\n",
      "\n",
      "           0       0.48      0.45      0.46      3596\n",
      "           1       0.28      0.17      0.21      3040\n",
      "           2       0.59      0.73      0.66      6275\n",
      "\n",
      "    accuracy                           0.52     12911\n",
      "   macro avg       0.45      0.45      0.44     12911\n",
      "weighted avg       0.49      0.52      0.50     12911\n",
      "\n"
     ]
    }
   ],
   "source": [
    "print(\"Random F\")\n",
    "build_and_test(X_train, X_test, y_train, y_test, RandomForestClassifier())"
   ]
  },
  {
   "cell_type": "code",
   "execution_count": 79,
   "id": "fd1d1e74-439d-4030-adb0-e07a4b6555f2",
   "metadata": {},
   "outputs": [
    {
     "name": "stdout",
     "output_type": "stream",
     "text": [
      "Des.Tree\n",
      "Precision score 0.4435192918220241\n",
      "Recall score 0.45024351125055034\n",
      "F1-score score 0.44338249811746167\n",
      "Accuracy score 0.5047633800635117\n",
      "              precision    recall  f1-score   support\n",
      "\n",
      "           0       0.45      0.51      0.47      3596\n",
      "           1       0.27      0.19      0.22      3040\n",
      "           2       0.61      0.66      0.63      6275\n",
      "\n",
      "    accuracy                           0.50     12911\n",
      "   macro avg       0.44      0.45      0.44     12911\n",
      "weighted avg       0.49      0.50      0.49     12911\n",
      "\n"
     ]
    }
   ],
   "source": [
    "print(\"Des.Tree\")\n",
    "build_and_test(X_train, X_test, y_train, y_test, DecisionTreeClassifier())"
   ]
  },
  {
   "cell_type": "code",
   "execution_count": 80,
   "id": "53eea91a-d7f5-4ef3-857f-1206a324fbeb",
   "metadata": {},
   "outputs": [
    {
     "name": "stdout",
     "output_type": "stream",
     "text": [
      "MLPC\n",
      "Precision score 0.44904073526436084\n",
      "Recall score 0.449089069341742\n",
      "F1-score score 0.44415354413208874\n",
      "Accuracy score 0.517233366896445\n",
      "              precision    recall  f1-score   support\n",
      "\n",
      "           0       0.48      0.45      0.46      3596\n",
      "           1       0.27      0.18      0.21      3040\n",
      "           2       0.60      0.72      0.66      6275\n",
      "\n",
      "    accuracy                           0.52     12911\n",
      "   macro avg       0.45      0.45      0.44     12911\n",
      "weighted avg       0.49      0.52      0.50     12911\n",
      "\n"
     ]
    },
    {
     "name": "stderr",
     "output_type": "stream",
     "text": [
      "/Users/costel/opt/miniconda3/envs/tensorflow/lib/python3.9/site-packages/sklearn/neural_network/_multilayer_perceptron.py:702: ConvergenceWarning:\n",
      "\n",
      "Stochastic Optimizer: Maximum iterations (200) reached and the optimization hasn't converged yet.\n",
      "\n"
     ]
    }
   ],
   "source": [
    "print(\"MLPC\")\n",
    "build_and_test(X_train, X_test, y_train, y_test, MLPClassifier())"
   ]
  },
  {
   "cell_type": "code",
   "execution_count": 81,
   "id": "356a157f-6f65-4131-b952-7659185720cb",
   "metadata": {},
   "outputs": [
    {
     "name": "stdout",
     "output_type": "stream",
     "text": [
      "LiniarSVC\n",
      "Precision score 0.4766961897783932\n",
      "Recall score 0.468827980333219\n",
      "F1-score score 0.4247870341324857\n",
      "Accuracy score 0.5668809542250793\n",
      "              precision    recall  f1-score   support\n",
      "\n",
      "           0       0.52      0.53      0.52      3596\n",
      "           1       0.32      0.03      0.05      3040\n",
      "           2       0.59      0.85      0.70      6275\n",
      "\n",
      "    accuracy                           0.57     12911\n",
      "   macro avg       0.48      0.47      0.42     12911\n",
      "weighted avg       0.51      0.57      0.50     12911\n",
      "\n"
     ]
    }
   ],
   "source": [
    "print(\"LiniarSVC\")\n",
    "build_and_test(X_train, X_test, y_train, y_test, LinearSVC())"
   ]
  },
  {
   "cell_type": "code",
   "execution_count": 82,
   "id": "1b1ad8ad-2703-4575-a482-d7aed1285b33",
   "metadata": {},
   "outputs": [],
   "source": [
    "df=read_csv(\"df_final.csv\")\n",
    "N=[]\n",
    "A = pd.DataFrame(df[['home_score', \"home_team\"]])\n",
    "B = pd.DataFrame(df[['away_score', \"away_team\"]])\n",
    "for i in range(len(A)):\n",
    "    if A['home_score'][i]<B['away_score'][i]:\n",
    "        N.append(B['away_team'][i])\n",
    "\n",
    "    if A['home_score'][i]>B['away_score'][i]:\n",
    "        N.append(A['home_team'][i])"
   ]
  },
  {
   "cell_type": "code",
   "execution_count": 83,
   "id": "9819f5e8-e397-496a-973b-70e62b74f579",
   "metadata": {},
   "outputs": [
    {
     "name": "stdout",
     "output_type": "stream",
     "text": [
      "                nume\n",
      "team                \n",
      "Brazil           643\n",
      "England          592\n",
      "Germany          570\n",
      "Argentina        539\n",
      "Sweden           514\n",
      "...              ...\n",
      "Kabylia            1\n",
      "Central Spain      1\n",
      "Chagos Islands     1\n",
      "Gozo               1\n",
      "Timor-Leste        1\n",
      "\n",
      "[291 rows x 1 columns]\n"
     ]
    }
   ],
   "source": [
    "N = pd.DataFrame(N,columns=['team'])\n",
    "echipe_castigatoare = pd.DataFrame(N.value_counts(),columns=['nume'])\n",
    "print(echipe_castigatoare)\n",
    "echipe_castigatoare = echipe_castigatoare.reset_index()"
   ]
  },
  {
   "cell_type": "code",
   "execution_count": 84,
   "id": "e50f5528-d1e7-4769-82ac-9d601ae4840a",
   "metadata": {},
   "outputs": [],
   "source": [
    "import numpy as np\n",
    "#3 posibilitati de augmentare:\n",
    "#1. echipe puternice castiga\n",
    "#augmentare date: adaugare meciuri in care castiga echipele puternice  in deplasare\n",
    "new_df = pd.DataFrame(columns=['home_team','away_team', 'home_score', 'away_score'])\n",
    "new_df['home_team'] = np.random.choice(list(echipe_castigatoare['team'][50:]), len(df))\n",
    "new_df['away_team'] = np.random.choice(list(echipe_castigatoare['team'][:50]), len(df))\n",
    "new_df['home_score'] = np.random.randint(low=0, high=3, size=len(new_df))\n",
    "new_df['away_score'] = np.random.randint(low=2, high=6, size=len(new_df))"
   ]
  },
  {
   "cell_type": "code",
   "execution_count": 85,
   "id": "032c1cc3-6fc4-431e-be47-f46a864085a1",
   "metadata": {},
   "outputs": [],
   "source": [
    "for i in range(len(new_df)):\n",
    "    if new_df['home_team'][i] == new_df['away_team'][i]:\n",
    "        new_df = new_df.drop([i])"
   ]
  },
  {
   "cell_type": "code",
   "execution_count": 86,
   "id": "9fae4b7a-fe0e-42ed-9c3d-5c0ddb2ac59e",
   "metadata": {},
   "outputs": [
    {
     "name": "stdout",
     "output_type": "stream",
     "text": [
      "       index        home_team      away_team  home_score  away_score\n",
      "0          0          Grenada         Mexico           1           3\n",
      "1          1  North Macedonia        Austria           0           3\n",
      "2          2     Turkmenistan       Malaysia           2           5\n",
      "3          3             Fiji       China PR           1           4\n",
      "4          4    Central Spain       Cameroon           2           5\n",
      "...      ...              ...            ...         ...         ...\n",
      "43029  43029        Nicaragua  United States           2           5\n",
      "43030  43030         Suriname       Portugal           2           5\n",
      "43031  43031          Finland         Sweden           1           5\n",
      "43032  43032     Cook Islands        Senegal           1           3\n",
      "43033  43033          Réunion       Bulgaria           1           4\n",
      "\n",
      "[43034 rows x 5 columns]\n"
     ]
    },
    {
     "name": "stderr",
     "output_type": "stream",
     "text": [
      "/var/folders/z9/bdmn6ynd3ml9m3h3b30mq0v40000gn/T/ipykernel_6329/326254897.py:3: FutureWarning:\n",
      "\n",
      "In a future version of pandas all arguments of DataFrame.drop except for the argument 'labels' will be keyword-only.\n",
      "\n"
     ]
    }
   ],
   "source": [
    "new_df = new_df.reset_index()\n",
    "print(new_df)\n",
    "data_aug1 = new_df.drop('index', 1)\n"
   ]
  },
  {
   "cell_type": "code",
   "execution_count": 87,
   "id": "c39f09a1-e50f-413d-b194-4e19d4900eb7",
   "metadata": {},
   "outputs": [],
   "source": [
    "#2. echipe slabe pierd\n",
    "#augmentare date: adaugare meciuri in care pierd echipe slabe\n",
    "new_df = pd.DataFrame(columns=['home_team','away_team', 'home_score', 'away_score'])\n",
    "new_df['home_team'] = np.random.choice(list(df['home_team']), len(df))\n",
    "new_df['away_team'] = np.random.choice(list(echipe_castigatoare['team'].tail(50)), len(df))\n",
    "new_df['home_score'] = np.random.randint(low=2, high=6, size=len(new_df))\n",
    "new_df['away_score'] = np.random.randint(low=0, high=2, size=len(new_df))"
   ]
  },
  {
   "cell_type": "code",
   "execution_count": 88,
   "id": "be4f793b-8bab-42bc-ad30-48bec5b7eabd",
   "metadata": {},
   "outputs": [
    {
     "name": "stderr",
     "output_type": "stream",
     "text": [
      "/var/folders/z9/bdmn6ynd3ml9m3h3b30mq0v40000gn/T/ipykernel_6329/3414779513.py:5: FutureWarning:\n",
      "\n",
      "In a future version of pandas all arguments of DataFrame.drop except for the argument 'labels' will be keyword-only.\n",
      "\n"
     ]
    }
   ],
   "source": [
    "for i in range(len(new_df)):\n",
    "    if new_df['home_team'][i] == new_df['away_team'][i]:\n",
    "        new_df = new_df.drop([i])\n",
    "new_df = new_df.reset_index()\n",
    "data_aug2 = new_df.drop('index', 1)"
   ]
  },
  {
   "cell_type": "code",
   "execution_count": 89,
   "id": "8632aa71-1638-47e8-9e1c-f691a25492f5",
   "metadata": {},
   "outputs": [],
   "source": [
    "#3. echipe puternice fac remiza\n",
    "#augmentare date: meciuri egale\n",
    "new_df = pd.DataFrame(columns=['home_team','away_team', 'home_score', 'away_score'])\n",
    "new_df['away_team'] = np.random.choice(list(echipe_castigatoare['team'][:50]), len(df))\n",
    "new_df['home_team'] = np.random.choice(list(echipe_castigatoare['team'][:50]), len(df))\n",
    "new_df['away_score'] = np.random.randint(low=0, high=3, size=len(new_df))\n",
    "new_df['home_score'] = new_df['away_score']\n",
    "for i in range(len(new_df)):\n",
    "    if new_df['home_team'][i] == new_df['away_team'][i]:\n",
    "        new_df = new_df.drop([i])"
   ]
  },
  {
   "cell_type": "code",
   "execution_count": 90,
   "id": "dc85774d-8410-4ba6-9e47-1c269e929e8f",
   "metadata": {},
   "outputs": [
    {
     "name": "stderr",
     "output_type": "stream",
     "text": [
      "/var/folders/z9/bdmn6ynd3ml9m3h3b30mq0v40000gn/T/ipykernel_6329/4162705430.py:2: FutureWarning:\n",
      "\n",
      "In a future version of pandas all arguments of DataFrame.drop except for the argument 'labels' will be keyword-only.\n",
      "\n"
     ]
    }
   ],
   "source": [
    "new_df = new_df.reset_index()\n",
    "data_aug3 = new_df.drop('index', 1)"
   ]
  },
  {
   "cell_type": "code",
   "execution_count": 91,
   "id": "c76acf86-a5ae-48b9-a129-2928c6cc6511",
   "metadata": {},
   "outputs": [],
   "source": [
    "original = df[['home_team','away_team', 'home_score', 'away_score']].copy()\n",
    "frames = [original, data_aug2]"
   ]
  },
  {
   "cell_type": "code",
   "execution_count": 92,
   "id": "b07e863a-1b02-4b1e-a06f-985c8689d38e",
   "metadata": {},
   "outputs": [],
   "source": [
    "result = pd.concat(frames)\n",
    "result = result.reset_index()"
   ]
  },
  {
   "cell_type": "code",
   "execution_count": 93,
   "id": "137d4936-81a2-4805-9e0b-42c8270df439",
   "metadata": {},
   "outputs": [],
   "source": [
    "#definim Y \n",
    "Y_nou=[]\n",
    "A = result['home_score']\n",
    "B = result['away_score']\n",
    "for i in range(len(A)):\n",
    "        if A[i]<B[i]:\n",
    "            Y_nou.append(-1)\n",
    "        elif A[i]>B[i]:\n",
    "            Y_nou.append(1)\n",
    "        else:\n",
    "            Y_nou.append(0)\n"
   ]
  },
  {
   "cell_type": "code",
   "execution_count": 94,
   "id": "8fddf0ad-d912-4cc2-8b89-6d75733030c7",
   "metadata": {},
   "outputs": [
    {
     "data": {
      "text/plain": [
       "(86060,)"
      ]
     },
     "execution_count": 94,
     "metadata": {},
     "output_type": "execute_result"
    }
   ],
   "source": [
    "Y_nou = pd.Series(Y_nou)\n",
    "Y_nou.value_counts()\n",
    "Y_nou.shape"
   ]
  },
  {
   "cell_type": "code",
   "execution_count": 95,
   "id": "a37fb725-7ffc-4573-8110-8cbb88ac3ac7",
   "metadata": {},
   "outputs": [],
   "source": [
    "#encoding date augmentate + date reale\n",
    "X_nou = result[['home_team', 'away_team']].astype(str)\n",
    "f = df[['home_team', 'away_team']].astype(str)\n"
   ]
  },
  {
   "cell_type": "code",
   "execution_count": 96,
   "id": "f053a21e-0c67-47ae-a4ec-04fd5550ee77",
   "metadata": {},
   "outputs": [],
   "source": [
    "# one hot encode input \n",
    "onehot_encoder = OneHotEncoder(sparse=False)\n",
    "X_nou = onehot_encoder.fit_transform(X_nou)\n"
   ]
  },
  {
   "cell_type": "code",
   "execution_count": 97,
   "id": "5f92f843-967f-41a3-a62c-2020ed8af895",
   "metadata": {},
   "outputs": [
    {
     "name": "stdout",
     "output_type": "stream",
     "text": [
      "Input (86060, 598)\n"
     ]
    }
   ],
   "source": [
    "# ordinal encode target variable\n",
    "label_encoder = LabelEncoder()\n",
    "Y_nou = label_encoder.fit_transform(Y_nou)\n",
    "# summarize the transformed data\n",
    "print('Input', X_nou.shape)"
   ]
  },
  {
   "cell_type": "code",
   "execution_count": 98,
   "id": "6d8ef5fd-2394-4442-a0ef-3f74f354c413",
   "metadata": {},
   "outputs": [],
   "source": [
    "X_train, X_test, y_train, y_test = train_test_split(X_nou, Y_nou, test_size=0.3, random_state=100)"
   ]
  },
  {
   "cell_type": "code",
   "execution_count": 99,
   "id": "7ead5e68-fedc-4cd7-9d02-adf8a2b5e333",
   "metadata": {},
   "outputs": [
    {
     "name": "stdout",
     "output_type": "stream",
     "text": [
      "Precision score 0.5321621592734967\n",
      "Recall score 0.5054397034577052\n",
      "F1-score score 0.5147854213417941\n",
      "Accuracy score 0.7578046324269889\n",
      "              precision    recall  f1-score   support\n",
      "\n",
      "           0       0.48      0.43      0.45      3693\n",
      "           1       0.27      0.18      0.21      2956\n",
      "           2       0.85      0.91      0.88     19169\n",
      "\n",
      "    accuracy                           0.76     25818\n",
      "   macro avg       0.53      0.51      0.51     25818\n",
      "weighted avg       0.73      0.76      0.74     25818\n",
      "\n"
     ]
    }
   ],
   "source": [
    "build_and_test(X_train, X_test, y_train, y_test, RandomForestClassifier())"
   ]
  },
  {
   "cell_type": "code",
   "execution_count": 100,
   "id": "4a248ac2-fb5c-48d5-baaa-c1969e65d9cb",
   "metadata": {},
   "outputs": [],
   "source": [
    "original = df[['home_team','away_team', 'home_score', 'away_score']].copy()\n",
    "frames = [original, data_aug1, data_aug2, data_aug3]"
   ]
  },
  {
   "cell_type": "code",
   "execution_count": 101,
   "id": "7b2de98a-2aef-41ba-9181-5aebf08e7e5b",
   "metadata": {},
   "outputs": [
    {
     "name": "stdout",
     "output_type": "stream",
     "text": [
      "[         home_team             away_team  home_score  away_score\n",
      "0         Scotland               England         0.0         0.0\n",
      "1          England              Scotland         4.0         2.0\n",
      "2         Scotland               England         2.0         1.0\n",
      "3          England              Scotland         2.0         2.0\n",
      "4         Scotland               England         3.0         0.0\n",
      "...            ...                   ...         ...         ...\n",
      "43029      Tunisia                  Oman         2.0         1.0\n",
      "43030        Qatar  United Arab Emirates         5.0         0.0\n",
      "43031        Egypt                Jordan         3.0         1.0\n",
      "43032      Morocco               Algeria         2.0         2.0\n",
      "43033  El Salvador                 Chile         0.0         1.0\n",
      "\n",
      "[43034 rows x 4 columns],              home_team      away_team  home_score  away_score\n",
      "0              Grenada         Mexico           1           3\n",
      "1      North Macedonia        Austria           0           3\n",
      "2         Turkmenistan       Malaysia           2           5\n",
      "3                 Fiji       China PR           1           4\n",
      "4        Central Spain       Cameroon           2           5\n",
      "...                ...            ...         ...         ...\n",
      "43029        Nicaragua  United States           2           5\n",
      "43030         Suriname       Portugal           2           5\n",
      "43031          Finland         Sweden           1           5\n",
      "43032     Cook Islands        Senegal           1           3\n",
      "43033          Réunion       Bulgaria           1           4\n",
      "\n",
      "[43034 rows x 4 columns],                    home_team                  away_team  home_score  \\\n",
      "0                      Haiti                   Brittany           4   \n",
      "1        Republic of Ireland  Wallis Islands and Futuna           3   \n",
      "2                    Georgia  Wallis Islands and Futuna           2   \n",
      "3                    Romania                   Provence           2   \n",
      "4                     Mexico                   Provence           3   \n",
      "...                      ...                        ...         ...   \n",
      "43021           Saudi Arabia                     Raetia           4   \n",
      "43022              Greenland            Western Armenia           5   \n",
      "43023                Moldova             Western Sahara           4   \n",
      "43024              Sri Lanka              Central Spain           2   \n",
      "43025  Saint Kitts and Nevis    United Koreans in Japan           3   \n",
      "\n",
      "       away_score  \n",
      "0               0  \n",
      "1               1  \n",
      "2               1  \n",
      "3               1  \n",
      "4               1  \n",
      "...           ...  \n",
      "43021           1  \n",
      "43022           0  \n",
      "43023           0  \n",
      "43024           0  \n",
      "43025           1  \n",
      "\n",
      "[43026 rows x 4 columns],           home_team      away_team  home_score  away_score\n",
      "0              Iran        Uruguay           2           2\n",
      "1             Egypt          Chile           2           2\n",
      "2          Scotland           Iraq           2           2\n",
      "3       Ivory Coast         Sweden           2           2\n",
      "4          Malaysia       Bulgaria           0           0\n",
      "...             ...            ...         ...         ...\n",
      "42134   Switzerland      Argentina           1           1\n",
      "42135  Saudi Arabia          Qatar           2           2\n",
      "42136       Hungary  United States           2           2\n",
      "42137         Kenya      Australia           1           1\n",
      "42138    Costa Rica          Chile           0           0\n",
      "\n",
      "[42139 rows x 4 columns]]\n"
     ]
    }
   ],
   "source": [
    "print(frames[:15])"
   ]
  },
  {
   "cell_type": "code",
   "execution_count": 102,
   "id": "d9a8c833-07b6-443e-9fed-42be757ccd39",
   "metadata": {},
   "outputs": [
    {
     "data": {
      "text/html": [
       "<div>\n",
       "<style scoped>\n",
       "    .dataframe tbody tr th:only-of-type {\n",
       "        vertical-align: middle;\n",
       "    }\n",
       "\n",
       "    .dataframe tbody tr th {\n",
       "        vertical-align: top;\n",
       "    }\n",
       "\n",
       "    .dataframe thead th {\n",
       "        text-align: right;\n",
       "    }\n",
       "</style>\n",
       "<table border=\"1\" class=\"dataframe\">\n",
       "  <thead>\n",
       "    <tr style=\"text-align: right;\">\n",
       "      <th></th>\n",
       "      <th>team</th>\n",
       "      <th>nume</th>\n",
       "    </tr>\n",
       "  </thead>\n",
       "  <tbody>\n",
       "    <tr>\n",
       "      <th>0</th>\n",
       "      <td>Brazil</td>\n",
       "      <td>643</td>\n",
       "    </tr>\n",
       "    <tr>\n",
       "      <th>1</th>\n",
       "      <td>England</td>\n",
       "      <td>592</td>\n",
       "    </tr>\n",
       "    <tr>\n",
       "      <th>2</th>\n",
       "      <td>Germany</td>\n",
       "      <td>570</td>\n",
       "    </tr>\n",
       "    <tr>\n",
       "      <th>3</th>\n",
       "      <td>Argentina</td>\n",
       "      <td>539</td>\n",
       "    </tr>\n",
       "    <tr>\n",
       "      <th>4</th>\n",
       "      <td>Sweden</td>\n",
       "      <td>514</td>\n",
       "    </tr>\n",
       "    <tr>\n",
       "      <th>5</th>\n",
       "      <td>South Korea</td>\n",
       "      <td>468</td>\n",
       "    </tr>\n",
       "    <tr>\n",
       "      <th>6</th>\n",
       "      <td>Mexico</td>\n",
       "      <td>455</td>\n",
       "    </tr>\n",
       "    <tr>\n",
       "      <th>7</th>\n",
       "      <td>Hungary</td>\n",
       "      <td>445</td>\n",
       "    </tr>\n",
       "    <tr>\n",
       "      <th>8</th>\n",
       "      <td>Italy</td>\n",
       "      <td>440</td>\n",
       "    </tr>\n",
       "    <tr>\n",
       "      <th>9</th>\n",
       "      <td>France</td>\n",
       "      <td>433</td>\n",
       "    </tr>\n",
       "    <tr>\n",
       "      <th>10</th>\n",
       "      <td>Spain</td>\n",
       "      <td>419</td>\n",
       "    </tr>\n",
       "    <tr>\n",
       "      <th>11</th>\n",
       "      <td>Netherlands</td>\n",
       "      <td>413</td>\n",
       "    </tr>\n",
       "    <tr>\n",
       "      <th>12</th>\n",
       "      <td>Uruguay</td>\n",
       "      <td>391</td>\n",
       "    </tr>\n",
       "    <tr>\n",
       "      <th>13</th>\n",
       "      <td>Scotland</td>\n",
       "      <td>382</td>\n",
       "    </tr>\n",
       "    <tr>\n",
       "      <th>14</th>\n",
       "      <td>Denmark</td>\n",
       "      <td>374</td>\n",
       "    </tr>\n",
       "  </tbody>\n",
       "</table>\n",
       "</div>"
      ],
      "text/plain": [
       "           team  nume\n",
       "0        Brazil   643\n",
       "1       England   592\n",
       "2       Germany   570\n",
       "3     Argentina   539\n",
       "4        Sweden   514\n",
       "5   South Korea   468\n",
       "6        Mexico   455\n",
       "7       Hungary   445\n",
       "8         Italy   440\n",
       "9        France   433\n",
       "10        Spain   419\n",
       "11  Netherlands   413\n",
       "12      Uruguay   391\n",
       "13     Scotland   382\n",
       "14      Denmark   374"
      ]
     },
     "execution_count": 102,
     "metadata": {},
     "output_type": "execute_result"
    }
   ],
   "source": [
    "echipe_castigatoare[:15]"
   ]
  },
  {
   "cell_type": "code",
   "execution_count": 103,
   "id": "b82cd987-0614-4a30-b6e2-e5a5dde83d17",
   "metadata": {},
   "outputs": [
    {
     "name": "stdout",
     "output_type": "stream",
     "text": [
      "             home_team      away_team  home_score  away_score\n",
      "0              Grenada         Mexico           1           3\n",
      "1      North Macedonia        Austria           0           3\n",
      "2         Turkmenistan       Malaysia           2           5\n",
      "3                 Fiji       China PR           1           4\n",
      "4        Central Spain       Cameroon           2           5\n",
      "...                ...            ...         ...         ...\n",
      "43029        Nicaragua  United States           2           5\n",
      "43030         Suriname       Portugal           2           5\n",
      "43031          Finland         Sweden           1           5\n",
      "43032     Cook Islands        Senegal           1           3\n",
      "43033          Réunion       Bulgaria           1           4\n",
      "\n",
      "[43034 rows x 4 columns]\n"
     ]
    }
   ],
   "source": [
    "print(data_aug1)\n"
   ]
  },
  {
   "cell_type": "code",
   "execution_count": 104,
   "id": "e54c5dd5-9cf1-4867-886e-29175abb71e7",
   "metadata": {},
   "outputs": [
    {
     "name": "stdout",
     "output_type": "stream",
     "text": [
      "                   home_team                away_team  home_score  away_score\n",
      "43025  Saint Kitts and Nevis  United Koreans in Japan           3           1\n",
      "43010              Singapore                    Hitra           4           0\n",
      "42995                  Chile                   Tuvalu           3           0\n",
      "42980                  Ghana             Székely Land           4           0\n",
      "42965                Ecuador                Yemen DPR           2           1\n",
      "...                      ...                      ...         ...         ...\n",
      "65                   Uruguay            Central Spain           2           0\n",
      "50               South Korea                   Panjab           5           0\n",
      "35                    Israel               East Timor           5           0\n",
      "20                   Iceland                  Corsica           5           0\n",
      "5                    Armenia               Micronesia           2           0\n",
      "\n",
      "[2869 rows x 4 columns]\n"
     ]
    }
   ],
   "source": [
    "print(data_aug2[::-15])"
   ]
  },
  {
   "cell_type": "code",
   "execution_count": 105,
   "id": "546be31b-2280-4ebe-9deb-9cf96568b956",
   "metadata": {},
   "outputs": [
    {
     "name": "stdout",
     "output_type": "stream",
     "text": [
      "          home_team      away_team  home_score  away_score\n",
      "0              Iran        Uruguay           2           2\n",
      "1             Egypt          Chile           2           2\n",
      "2          Scotland           Iraq           2           2\n",
      "3       Ivory Coast         Sweden           2           2\n",
      "4          Malaysia       Bulgaria           0           0\n",
      "...             ...            ...         ...         ...\n",
      "42134   Switzerland      Argentina           1           1\n",
      "42135  Saudi Arabia          Qatar           2           2\n",
      "42136       Hungary  United States           2           2\n",
      "42137         Kenya      Australia           1           1\n",
      "42138    Costa Rica          Chile           0           0\n",
      "\n",
      "[42139 rows x 4 columns]\n"
     ]
    }
   ],
   "source": [
    "print(data_aug3)\n"
   ]
  },
  {
   "cell_type": "code",
   "execution_count": 106,
   "id": "9ee25f04-42be-459e-b5ca-dd7c2094969e",
   "metadata": {},
   "outputs": [],
   "source": [
    "result = pd.concat(frames)\n",
    "result = result.reset_index()"
   ]
  },
  {
   "cell_type": "code",
   "execution_count": 107,
   "id": "e0ea0bee-7bb1-49b3-813a-87e1efd20e13",
   "metadata": {},
   "outputs": [
    {
     "data": {
      "text/plain": [
       "2    63961\n",
       "0    12179\n",
       "1     9920\n",
       "dtype: int64"
      ]
     },
     "execution_count": 107,
     "metadata": {},
     "output_type": "execute_result"
    }
   ],
   "source": [
    "Y_nou = pd.Series(Y_nou)\n",
    "Y_nou.value_counts()"
   ]
  },
  {
   "cell_type": "code",
   "execution_count": 108,
   "id": "f16f0bba-f39d-4028-9cc1-62dd06486227",
   "metadata": {},
   "outputs": [],
   "source": [
    "#encoding date augmentate + date reale\n",
    "X_nou = result[['home_team', 'away_team']].astype(str)\n",
    "f = df[['home_team', 'away_team']].astype(str)"
   ]
  },
  {
   "cell_type": "code",
   "execution_count": 109,
   "id": "00e2f117-2b0a-40b6-8749-1f87286c3b49",
   "metadata": {},
   "outputs": [],
   "source": [
    "# one hot encode input variables\n",
    "onehot_encoder = OneHotEncoder(sparse=False)\n",
    "X_nou = onehot_encoder.fit_transform(X_nou)"
   ]
  },
  {
   "cell_type": "code",
   "execution_count": 110,
   "id": "7588e715-3c19-42d8-a316-191e9be7070e",
   "metadata": {},
   "outputs": [
    {
     "name": "stdout",
     "output_type": "stream",
     "text": [
      "Input (171233, 598)\n"
     ]
    }
   ],
   "source": [
    "# ordinal encode target variable\n",
    "label_encoder = LabelEncoder()\n",
    "Y_nou = label_encoder.fit_transform(Y_nou)\n",
    "# summarize the transformed data\n",
    "print('Input', X_nou.shape)"
   ]
  },
  {
   "cell_type": "code",
   "execution_count": 111,
   "id": "18541de9-1fd9-4a13-b6b0-09616c57345d",
   "metadata": {},
   "outputs": [],
   "source": [
    "#definim Y \n",
    "Y_nou=[]\n",
    "A = result['home_score']\n",
    "B = result['away_score']\n",
    "for i in range(len(A)):\n",
    "        if A[i]<B[i]:\n",
    "            Y_nou.append(-1)\n",
    "        elif A[i]>B[i]:\n",
    "            Y_nou.append(1)\n",
    "        else:\n",
    "            Y_nou.append(0)\n"
   ]
  },
  {
   "cell_type": "code",
   "execution_count": 112,
   "id": "97344c60-a7d1-471d-ad57-d1b7626d42e5",
   "metadata": {
    "tags": []
   },
   "outputs": [],
   "source": [
    "X_train, X_test, y_train, y_test = train_test_split(X_nou, Y_nou, test_size=0.3, random_state=100)"
   ]
  },
  {
   "cell_type": "code",
   "execution_count": 113,
   "id": "d3d6f508-f189-4939-878e-156b67d08cda",
   "metadata": {
    "tags": []
   },
   "outputs": [
    {
     "name": "stderr",
     "output_type": "stream",
     "text": [
      "/Users/costel/opt/miniconda3/envs/tensorflow/lib/python3.9/site-packages/sklearn/linear_model/_logistic.py:444: ConvergenceWarning:\n",
      "\n",
      "lbfgs failed to converge (status=1):\n",
      "STOP: TOTAL NO. of ITERATIONS REACHED LIMIT.\n",
      "\n",
      "Increase the number of iterations (max_iter) or scale the data as shown in:\n",
      "    https://scikit-learn.org/stable/modules/preprocessing.html\n",
      "Please also refer to the documentation for alternative solver options:\n",
      "    https://scikit-learn.org/stable/modules/linear_model.html#logistic-regression\n",
      "\n"
     ]
    },
    {
     "name": "stdout",
     "output_type": "stream",
     "text": [
      "Precision score 0.851593158382382\n",
      "Recall score 0.8533381407051421\n",
      "F1-score score 0.851838249264572\n",
      "Accuracy score 0.8532217247420674\n",
      "              precision    recall  f1-score   support\n",
      "\n",
      "          -1       0.82      0.89      0.85     15535\n",
      "           0       0.84      0.81      0.83     16529\n",
      "           1       0.89      0.86      0.88     19306\n",
      "\n",
      "    accuracy                           0.85     51370\n",
      "   macro avg       0.85      0.85      0.85     51370\n",
      "weighted avg       0.85      0.85      0.85     51370\n",
      "\n"
     ]
    }
   ],
   "source": [
    "build_and_test(X_train, X_test, y_train, y_test, LogisticRegression())"
   ]
  },
  {
   "cell_type": "code",
   "execution_count": 114,
   "id": "6df10db8-d84c-45e3-8b84-ddb5d138bfb1",
   "metadata": {},
   "outputs": [
    {
     "name": "stdout",
     "output_type": "stream",
     "text": [
      "Precision score 0.8336278906409106\n",
      "Recall score 0.8353086898318981\n",
      "F1-score score 0.8338207247746822\n",
      "Accuracy score 0.8349036402569593\n",
      "              precision    recall  f1-score   support\n",
      "\n",
      "          -1       0.81      0.85      0.83     15535\n",
      "           0       0.79      0.82      0.81     16529\n",
      "           1       0.90      0.83      0.86     19306\n",
      "\n",
      "    accuracy                           0.83     51370\n",
      "   macro avg       0.83      0.84      0.83     51370\n",
      "weighted avg       0.84      0.83      0.84     51370\n",
      "\n"
     ]
    }
   ],
   "source": [
    "build_and_test(X_train, X_test, y_train, y_test, DecisionTreeClassifier())"
   ]
  },
  {
   "cell_type": "code",
   "execution_count": 115,
   "id": "018dc285-a891-40a0-8c6e-b3e6af578a2a",
   "metadata": {},
   "outputs": [
    {
     "name": "stdout",
     "output_type": "stream",
     "text": [
      "Precision score 0.7930003780302503\n",
      "Recall score 0.7913880676239259\n",
      "F1-score score 0.7905407630870961\n",
      "Accuracy score 0.7924858867043021\n",
      "              precision    recall  f1-score   support\n",
      "\n",
      "          -1       0.76      0.76      0.76     15535\n",
      "           0       0.72      0.81      0.76     16529\n",
      "           1       0.89      0.80      0.84     19306\n",
      "\n",
      "    accuracy                           0.79     51370\n",
      "   macro avg       0.79      0.79      0.79     51370\n",
      "weighted avg       0.80      0.79      0.79     51370\n",
      "\n"
     ]
    }
   ],
   "source": [
    "build_and_test(X_train, X_test, y_train, y_test, KNeighborsClassifier())"
   ]
  },
  {
   "cell_type": "code",
   "execution_count": 116,
   "id": "640f1861-2c67-4129-858a-6178a8d06b36",
   "metadata": {},
   "outputs": [
    {
     "name": "stdout",
     "output_type": "stream",
     "text": [
      "Precision score 0.8348734355933715\n",
      "Recall score 0.835647839487761\n",
      "F1-score score 0.8350751315059391\n",
      "Accuracy score 0.8364415028226592\n",
      "              precision    recall  f1-score   support\n",
      "\n",
      "          -1       0.83      0.84      0.83     15535\n",
      "           0       0.79      0.82      0.81     16529\n",
      "           1       0.88      0.85      0.87     19306\n",
      "\n",
      "    accuracy                           0.84     51370\n",
      "   macro avg       0.83      0.84      0.84     51370\n",
      "weighted avg       0.84      0.84      0.84     51370\n",
      "\n"
     ]
    }
   ],
   "source": [
    "build_and_test(X_train, X_test, y_train, y_test, RandomForestClassifier())"
   ]
  },
  {
   "cell_type": "code",
   "execution_count": 117,
   "id": "47dc7003-45d3-4736-917e-ddf20f42394f",
   "metadata": {},
   "outputs": [
    {
     "name": "stdout",
     "output_type": "stream",
     "text": [
      "Precision score 0.8464862282332959\n",
      "Recall score 0.8489952628656184\n",
      "F1-score score 0.8469789102909352\n",
      "Accuracy score 0.8479462721432743\n",
      "              precision    recall  f1-score   support\n",
      "\n",
      "          -1       0.82      0.88      0.85     15535\n",
      "           0       0.82      0.82      0.82     16529\n",
      "           1       0.90      0.84      0.87     19306\n",
      "\n",
      "    accuracy                           0.85     51370\n",
      "   macro avg       0.85      0.85      0.85     51370\n",
      "weighted avg       0.85      0.85      0.85     51370\n",
      "\n"
     ]
    }
   ],
   "source": [
    "build_and_test(X_train, X_test, y_train, y_test,LinearSVC())"
   ]
  },
  {
   "cell_type": "code",
   "execution_count": 118,
   "id": "a6de4697-6157-468b-a5fa-074f1062fcd4",
   "metadata": {},
   "outputs": [
    {
     "name": "stderr",
     "output_type": "stream",
     "text": [
      "/Users/costel/opt/miniconda3/envs/tensorflow/lib/python3.9/site-packages/sklearn/neural_network/_multilayer_perceptron.py:702: ConvergenceWarning:\n",
      "\n",
      "Stochastic Optimizer: Maximum iterations (200) reached and the optimization hasn't converged yet.\n",
      "\n"
     ]
    },
    {
     "name": "stdout",
     "output_type": "stream",
     "text": [
      "Precision score 0.832995917274058\n",
      "Recall score 0.8334617371104175\n",
      "F1-score score 0.8331137853609524\n",
      "Accuracy score 0.834864707027448\n",
      "              precision    recall  f1-score   support\n",
      "\n",
      "          -1       0.82      0.83      0.83     15535\n",
      "           0       0.79      0.82      0.80     16529\n",
      "           1       0.88      0.86      0.87     19306\n",
      "\n",
      "    accuracy                           0.83     51370\n",
      "   macro avg       0.83      0.83      0.83     51370\n",
      "weighted avg       0.84      0.83      0.84     51370\n",
      "\n"
     ]
    }
   ],
   "source": [
    "build_and_test(X_train, X_test, y_train, y_test,MLPClassifier())"
   ]
  },
  {
   "cell_type": "code",
   "execution_count": 119,
   "id": "451223db-ed55-448b-88d1-ed9f0cfc04de",
   "metadata": {},
   "outputs": [],
   "source": [
    "from sklearn.metrics import plot_confusion_matrix"
   ]
  },
  {
   "cell_type": "code",
   "execution_count": 120,
   "id": "47eef07c-933e-473c-a2ed-18648ec2819a",
   "metadata": {},
   "outputs": [],
   "source": [
    "X_train, X_test, y_train, y_test = train_test_split(X, Y, test_size=0.3, random_state=100)"
   ]
  },
  {
   "cell_type": "code",
   "execution_count": 121,
   "id": "1e82dee3-b68c-4687-a5cd-db231732dad0",
   "metadata": {},
   "outputs": [
    {
     "name": "stderr",
     "output_type": "stream",
     "text": [
      "/Users/costel/opt/miniconda3/envs/tensorflow/lib/python3.9/site-packages/sklearn/linear_model/_logistic.py:444: ConvergenceWarning:\n",
      "\n",
      "lbfgs failed to converge (status=1):\n",
      "STOP: TOTAL NO. of ITERATIONS REACHED LIMIT.\n",
      "\n",
      "Increase the number of iterations (max_iter) or scale the data as shown in:\n",
      "    https://scikit-learn.org/stable/modules/preprocessing.html\n",
      "Please also refer to the documentation for alternative solver options:\n",
      "    https://scikit-learn.org/stable/modules/linear_model.html#logistic-regression\n",
      "\n"
     ]
    }
   ],
   "source": [
    "reg = LogisticRegression().fit(X, Y)"
   ]
  },
  {
   "cell_type": "code",
   "execution_count": 122,
   "id": "4b4a2f70-7cca-42b9-94dd-249bb3a9f326",
   "metadata": {},
   "outputs": [
    {
     "name": "stderr",
     "output_type": "stream",
     "text": [
      "/Users/costel/opt/miniconda3/envs/tensorflow/lib/python3.9/site-packages/sklearn/utils/deprecation.py:87: FutureWarning:\n",
      "\n",
      "Function plot_confusion_matrix is deprecated; Function `plot_confusion_matrix` is deprecated in 1.0 and will be removed in 1.2. Use one of the class methods: ConfusionMatrixDisplay.from_predictions or ConfusionMatrixDisplay.from_estimator.\n",
      "\n"
     ]
    },
    {
     "data": {
      "text/plain": [
       "<sklearn.metrics._plot.confusion_matrix.ConfusionMatrixDisplay at 0x151d4ce20>"
      ]
     },
     "execution_count": 122,
     "metadata": {},
     "output_type": "execute_result"
    },
    {
     "data": {
      "image/png": "[encoded data removed]",
      "text/plain": [
       "<Figure size 640x480 with 2 Axes>"
      ]
     },
     "metadata": {},
     "output_type": "display_data"
    }
   ],
   "source": [
    "plot_confusion_matrix(reg, X_test, y_test) "
   ]
  },
  {
   "cell_type": "code",
   "execution_count": 123,
   "id": "bf9b6152-1551-44da-877e-9f5a2782e960",
   "metadata": {},
   "outputs": [
    {
     "name": "stderr",
     "output_type": "stream",
     "text": [
      "/Users/costel/opt/miniconda3/envs/tensorflow/lib/python3.9/site-packages/sklearn/utils/deprecation.py:87: FutureWarning:\n",
      "\n",
      "Function plot_confusion_matrix is deprecated; Function `plot_confusion_matrix` is deprecated in 1.0 and will be removed in 1.2. Use one of the class methods: ConfusionMatrixDisplay.from_predictions or ConfusionMatrixDisplay.from_estimator.\n",
      "\n"
     ]
    },
    {
     "data": {
      "text/plain": [
       "<sklearn.metrics._plot.confusion_matrix.ConfusionMatrixDisplay at 0x151d4cb80>"
      ]
     },
     "execution_count": 123,
     "metadata": {},
     "output_type": "execute_result"
    },
    {
     "data": {
      "image/png": "[encoded data removed]",
      "text/plain": [
       "<Figure size 640x480 with 2 Axes>"
      ]
     },
     "metadata": {},
     "output_type": "display_data"
    }
   ],
   "source": [
    "reg = DecisionTreeClassifier().fit(X, Y)\n",
    "plot_confusion_matrix(reg, X_test, y_test) "
   ]
  },
  {
   "cell_type": "code",
   "execution_count": 124,
   "id": "bb40fae8-afd7-4f06-9968-dcd01d742d1a",
   "metadata": {},
   "outputs": [
    {
     "name": "stderr",
     "output_type": "stream",
     "text": [
      "/Users/costel/opt/miniconda3/envs/tensorflow/lib/python3.9/site-packages/sklearn/utils/deprecation.py:87: FutureWarning:\n",
      "\n",
      "Function plot_confusion_matrix is deprecated; Function `plot_confusion_matrix` is deprecated in 1.0 and will be removed in 1.2. Use one of the class methods: ConfusionMatrixDisplay.from_predictions or ConfusionMatrixDisplay.from_estimator.\n",
      "\n"
     ]
    },
    {
     "data": {
      "text/plain": [
       "<sklearn.metrics._plot.confusion_matrix.ConfusionMatrixDisplay at 0x14297ed00>"
      ]
     },
     "execution_count": 124,
     "metadata": {},
     "output_type": "execute_result"
    },
    {
     "data": {
      "image/png": "[encoded data removed]",
      "text/plain": [
       "<Figure size 640x480 with 2 Axes>"
      ]
     },
     "metadata": {},
     "output_type": "display_data"
    }
   ],
   "source": [
    "reg = RandomForestClassifier().fit(X, Y)\n",
    "plot_confusion_matrix(reg, X_test, y_test) "
   ]
  },
  {
   "cell_type": "code",
   "execution_count": 125,
   "id": "b47599c7-daba-4863-bea3-0a2e2fc6b885",
   "metadata": {},
   "outputs": [
    {
     "name": "stderr",
     "output_type": "stream",
     "text": [
      "/Users/costel/opt/miniconda3/envs/tensorflow/lib/python3.9/site-packages/sklearn/neural_network/_multilayer_perceptron.py:702: ConvergenceWarning:\n",
      "\n",
      "Stochastic Optimizer: Maximum iterations (200) reached and the optimization hasn't converged yet.\n",
      "\n",
      "/Users/costel/opt/miniconda3/envs/tensorflow/lib/python3.9/site-packages/sklearn/utils/deprecation.py:87: FutureWarning:\n",
      "\n",
      "Function plot_confusion_matrix is deprecated; Function `plot_confusion_matrix` is deprecated in 1.0 and will be removed in 1.2. Use one of the class methods: ConfusionMatrixDisplay.from_predictions or ConfusionMatrixDisplay.from_estimator.\n",
      "\n"
     ]
    },
    {
     "data": {
      "text/plain": [
       "<sklearn.metrics._plot.confusion_matrix.ConfusionMatrixDisplay at 0x142883f70>"
      ]
     },
     "execution_count": 125,
     "metadata": {},
     "output_type": "execute_result"
    },
    {
     "data": {
      "image/png": "[encoded data removed]",
      "text/plain": [
       "<Figure size 640x480 with 2 Axes>"
      ]
     },
     "metadata": {},
     "output_type": "display_data"
    }
   ],
   "source": [
    "reg = MLPClassifier().fit(X, Y)\n",
    "plot_confusion_matrix(reg, X_test, y_test) "
   ]
  },
  {
   "cell_type": "code",
   "execution_count": 126,
   "id": "08639e04-c87a-465d-84b7-0b6106090e29",
   "metadata": {},
   "outputs": [
    {
     "name": "stderr",
     "output_type": "stream",
     "text": [
      "/Users/costel/opt/miniconda3/envs/tensorflow/lib/python3.9/site-packages/sklearn/utils/deprecation.py:87: FutureWarning:\n",
      "\n",
      "Function plot_confusion_matrix is deprecated; Function `plot_confusion_matrix` is deprecated in 1.0 and will be removed in 1.2. Use one of the class methods: ConfusionMatrixDisplay.from_predictions or ConfusionMatrixDisplay.from_estimator.\n",
      "\n"
     ]
    },
    {
     "data": {
      "text/plain": [
       "<sklearn.metrics._plot.confusion_matrix.ConfusionMatrixDisplay at 0x142897100>"
      ]
     },
     "execution_count": 126,
     "metadata": {},
     "output_type": "execute_result"
    },
    {
     "data": {
      "image/png": "[encoded data removed]",
      "text/plain": [
       "<Figure size 640x480 with 2 Axes>"
      ]
     },
     "metadata": {},
     "output_type": "display_data"
    }
   ],
   "source": [
    "KNN = KNeighborsClassifier().fit(X, Y)\n",
    "plot_confusion_matrix(KNN, X_test, y_test) "
   ]
  },
  {
   "cell_type": "code",
   "execution_count": 127,
   "id": "f97afb62-8fcc-4b3e-b268-b50fb4dc70d0",
   "metadata": {},
   "outputs": [
    {
     "name": "stderr",
     "output_type": "stream",
     "text": [
      "/Users/costel/opt/miniconda3/envs/tensorflow/lib/python3.9/site-packages/sklearn/utils/deprecation.py:87: FutureWarning:\n",
      "\n",
      "Function plot_confusion_matrix is deprecated; Function `plot_confusion_matrix` is deprecated in 1.0 and will be removed in 1.2. Use one of the class methods: ConfusionMatrixDisplay.from_predictions or ConfusionMatrixDisplay.from_estimator.\n",
      "\n"
     ]
    },
    {
     "data": {
      "text/plain": [
       "<sklearn.metrics._plot.confusion_matrix.ConfusionMatrixDisplay at 0x142a02ee0>"
      ]
     },
     "execution_count": 127,
     "metadata": {},
     "output_type": "execute_result"
    },
    {
     "data": {
      "image/png": "[encoded data removed]",
      "text/plain": [
       "<Figure size 640x480 with 2 Axes>"
      ]
     },
     "metadata": {},
     "output_type": "display_data"
    }
   ],
   "source": [
    "svc = LinearSVC(dual=False).fit(X, Y)\n",
    "plot_confusion_matrix(svc, X_test, y_test) "
   ]
  }
 ],
 "metadata": {
  "kernelspec": {
   "display_name": "Python 3.9.13 ('tensorflow')",
   "language": "python",
   "name": "python3"
  },
  "language_info": {
   "codemirror_mode": {
    "name": "ipython",
    "version": 3
   },
   "file_extension": ".py",
   "mimetype": "text/x-python",
   "name": "python",
   "nbconvert_exporter": "python",
   "pygments_lexer": "ipython3",
   "version": "3.9.13"
  },
  "vscode": {
   "interpreter": {
    "hash": "360c955d4a0368fa3d0f1048a2f08e68d0d552f113e688ac66d9e29116f51d03"
   }
  }
 },
 "nbformat": 4,
 "nbformat_minor": 5
}
